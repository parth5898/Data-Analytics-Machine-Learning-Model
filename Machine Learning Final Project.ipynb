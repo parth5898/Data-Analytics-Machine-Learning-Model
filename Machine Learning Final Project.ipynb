{
 "cells": [
  {
   "cell_type": "markdown",
   "id": "6c2b2155",
   "metadata": {},
   "source": [
    "<span style=\"color: red;\">\n",
    "<div style=\"text-align: center;\">\n",
    "  <h1>Machine Learning Project </h1>\n",
    "</div>\n",
    "</span>\n"
   ]
  },
  {
   "cell_type": "markdown",
   "id": "24d4c157",
   "metadata": {},
   "source": [
    "# Q1. Problem Statement \n",
    "\n",
    "- **Context and Company Background:** TechWorks Consulting is an IT talent recruitment company known for its unique approach to connecting skilled IT professionals with job opportunities. They focus on matching the right candidates with the right roles.\n",
    "\n",
    "- **Data Description:** The dataset we have includes information about colleges, cities, job roles, previous experience, and salaries. We’ll use this data to train and test our predictive model.\n",
    "\n",
    "- **Regression Task:** Our main goal is to build a regression model that can predict salaries based on the provided data. We’re specifically looking to forecast the salary of newly hired employees.\n",
    "\n",
    "- **Role of Statistics:** Statistics will help us build the model and evaluate its accuracy. We'll use statistical methods to ensure our model is both reliable and effective.\n",
    "\n",
    "- **Data Preprocessing:** Data preprocessing is a critical step in our project. It involves handling missing values, addressing outliers, converting categorical variables to numerical formats, normalizing data, and selecting the most relevant features. These steps are essential to prepare the data for building an accurate model.\n"
   ]
  },
  {
   "cell_type": "markdown",
   "id": "759fe60d",
   "metadata": {},
   "source": [
    "# Q2. Creating a Salary Prediction Model: A Step-by-Step \n",
    "\n",
    "- **Understanding the Data:**\n",
    "  - Begin by getting familiar with the dataset, including its structure and the meaning behind each column. Examine the data’s distribution, summary statistics, and identify any potential outliers.\n",
    "\n",
    "- **Preparing the Data:**\n",
    "  - **Handle Missing Values:** Check for any missing data and decide whether to fill in the gaps or remove incomplete entries to ensure the dataset is complete.\n",
    "  - **Detect and Treat Outliers:** Identify any outliers that could skew the results and address them appropriately to maintain model accuracy.\n",
    "  - **Convert Categorical Data:** Transform categorical variables, such as \"College\" and \"City,\" into numerical formats to make them usable by the model.\n",
    "  - **Normalize Data:** Scale numerical features to bring them to a similar level, preventing any single feature from having too much influence over the model.\n",
    "  - **Select Features:** Use techniques like Lasso, Ridge, or correlation analysis to select the most relevant features for predicting salaries.\n",
    "\n",
    "- **Exploring the Data:**\n",
    "  - Perform Exploratory Data Analysis (EDA) to uncover patterns, trends, and insights that can guide model development.\n",
    "\n",
    "- **Choosing the Right Model:**\n",
    "  - Experiment with various regression models, such as Linear Regression and Multi Linear Regression, to determine which ones perform best for predicting salaries.\n",
    "\n",
    "- **Training and Evaluating the Model:**\n",
    "  - Split the dataset into training and testing sets. Train the models on the training data and evaluate their performance on the testing data.\n",
    "  - Measure model performance using metrics like Mean Squared Error (MSE), R-squared, and Mean Absolute Error (MAE). Experiment with different model parameters and use cross-validation to ensure robustness and avoid overfitting.\n",
    "\n",
    "- **Comparing Models:**\n",
    "  - Compare the performance of different models and select the one that offers the best accuracy and generalization.\n",
    "\n",
    "- **Improving the Model:**\n",
    "  - Explore additional techniques for model enhancement, such as feature engineering, hyperparameter tuning, and using ensemble methods to boost performance.\n"
   ]
  },
  {
   "cell_type": "markdown",
   "id": "1ba203e8",
   "metadata": {},
   "source": [
    "# Q3. The Available ML Model Options for This Task\n",
    "\n",
    "In predicting employee salaries at TechWorks Consulting, several machine learning models are available for regression tasks. The choice of model depends on factors such as the nature of the data, the complexity of the problem, and the need for model interpretability. Here’s a look at the model options:\n",
    "\n",
    "**1. Linear Regression:**\n",
    "- Linear regression is a straightforward and interpretable model that assumes a linear relationship between the features and the target variable (salary). It’s a great starting point and helps establish a baseline for performance.\n",
    "\n",
    "**2. Ridge Regression and Lasso Regression:**\n",
    "- Ridge and Lasso regression are regularization techniques used to handle multicollinearity and prevent overfitting. They are variations of linear regression that add regularization terms to the cost function to improve model robustness.\n",
    "\n",
    "**3. Decision Trees:**\n",
    "- Decision tree-based models, such as Random Forest and Gradient Boosting, are excellent for capturing non-linear relationships in the data. They can handle both numerical and categorical features and automatically determine feature importance.\n",
    "\n",
    "**4. K-Nearest Neighbors (KNN):**\n",
    "- KNN is a non-parametric method that makes predictions based on the average of the 'k' nearest data points. It works well for small to medium-sized datasets and is relatively simple to implement.\n",
    "\n",
    "**5. Polynomial Regression:**\n",
    "- Polynomial regression introduces polynomial features to capture non-linear relationships between the features and the target variable.\n",
    "\n",
    "#### For this task, only 3 out of these 5 models will be used. The models will be tested with default parameters, and some will be adjusted with parameter changes to see how they affect performance.\n"
   ]
  },
  {
   "cell_type": "code",
   "execution_count": 1,
   "id": "dd39edf9",
   "metadata": {},
   "outputs": [],
   "source": [
    "# Import necessary libraries\n",
    "import pandas as pd\n",
    "import numpy as np\n",
    "import matplotlib.pyplot as plt\n",
    "import seaborn as sns\n",
    "from sklearn.model_selection import train_test_split\n",
    "from sklearn.preprocessing import StandardScaler, LabelEncoder\n",
    "from sklearn.metrics import mean_squared_error, r2_score\n",
    "from sklearn.linear_model import LinearRegression\n",
    "from sklearn.ensemble import RandomForestRegressor\n",
    "\n",
    "# Optional: To display all columns of dataframes\n",
    "pd.set_option('display.max_columns', None)"
   ]
  },
  {
   "cell_type": "code",
   "execution_count": 7,
   "id": "60a73e78",
   "metadata": {},
   "outputs": [],
   "source": [
    "# Load datasets\n",
    "cities = pd.read_csv(\"C:\\\\Users\\\\ADMIN\\\\Desktop\\\\Final Pro\\\\cities.csv\")\n",
    "college = pd.read_csv(\"C:\\\\Users\\\\ADMIN\\Desktop\\\\Final Pro\\\\Colleges.csv\")\n",
    "df = pd.read_csv(\"C:\\\\Users\\\\ADMIN\\Desktop\\\\Final Pro\\\\ML case Study.csv\")\n",
    "\n",
    "\n"
   ]
  },
  {
   "cell_type": "code",
   "execution_count": 8,
   "id": "3480d3d7",
   "metadata": {},
   "outputs": [
    {
     "data": {
      "text/html": [
       "<div>\n",
       "<style scoped>\n",
       "    .dataframe tbody tr th:only-of-type {\n",
       "        vertical-align: middle;\n",
       "    }\n",
       "\n",
       "    .dataframe tbody tr th {\n",
       "        vertical-align: top;\n",
       "    }\n",
       "\n",
       "    .dataframe thead th {\n",
       "        text-align: right;\n",
       "    }\n",
       "</style>\n",
       "<table border=\"1\" class=\"dataframe\">\n",
       "  <thead>\n",
       "    <tr style=\"text-align: right;\">\n",
       "      <th></th>\n",
       "      <th>College</th>\n",
       "      <th>City</th>\n",
       "      <th>Role</th>\n",
       "      <th>Previous CTC</th>\n",
       "      <th>Previous job change</th>\n",
       "      <th>Graduation Marks</th>\n",
       "      <th>EXP (Month)</th>\n",
       "      <th>CTC</th>\n",
       "    </tr>\n",
       "  </thead>\n",
       "  <tbody>\n",
       "    <tr>\n",
       "      <th>0</th>\n",
       "      <td>SVNIT Surat</td>\n",
       "      <td>Asansol</td>\n",
       "      <td>Manager</td>\n",
       "      <td>55523.0</td>\n",
       "      <td>3</td>\n",
       "      <td>66</td>\n",
       "      <td>19</td>\n",
       "      <td>71406.58</td>\n",
       "    </tr>\n",
       "    <tr>\n",
       "      <th>1</th>\n",
       "      <td>NIT Bhopal</td>\n",
       "      <td>Ajmer</td>\n",
       "      <td>Executive</td>\n",
       "      <td>57081.0</td>\n",
       "      <td>1</td>\n",
       "      <td>84</td>\n",
       "      <td>18</td>\n",
       "      <td>68005.87</td>\n",
       "    </tr>\n",
       "    <tr>\n",
       "      <th>2</th>\n",
       "      <td>IEM, Kolkata</td>\n",
       "      <td>Rajpur Sonarpur</td>\n",
       "      <td>Executive</td>\n",
       "      <td>60347.0</td>\n",
       "      <td>2</td>\n",
       "      <td>52</td>\n",
       "      <td>28</td>\n",
       "      <td>76764.02</td>\n",
       "    </tr>\n",
       "    <tr>\n",
       "      <th>3</th>\n",
       "      <td>KIIT, Bhubaneswar</td>\n",
       "      <td>Ajmer</td>\n",
       "      <td>Executive</td>\n",
       "      <td>49010.0</td>\n",
       "      <td>2</td>\n",
       "      <td>81</td>\n",
       "      <td>33</td>\n",
       "      <td>82092.39</td>\n",
       "    </tr>\n",
       "    <tr>\n",
       "      <th>4</th>\n",
       "      <td>DTU</td>\n",
       "      <td>Durgapur</td>\n",
       "      <td>Executive</td>\n",
       "      <td>57879.0</td>\n",
       "      <td>4</td>\n",
       "      <td>74</td>\n",
       "      <td>32</td>\n",
       "      <td>73878.10</td>\n",
       "    </tr>\n",
       "  </tbody>\n",
       "</table>\n",
       "</div>"
      ],
      "text/plain": [
       "             College             City       Role  Previous CTC  \\\n",
       "0        SVNIT Surat          Asansol    Manager       55523.0   \n",
       "1         NIT Bhopal            Ajmer  Executive       57081.0   \n",
       "2       IEM, Kolkata  Rajpur Sonarpur  Executive       60347.0   \n",
       "3  KIIT, Bhubaneswar            Ajmer  Executive       49010.0   \n",
       "4                DTU         Durgapur  Executive       57879.0   \n",
       "\n",
       "   Previous job change  Graduation Marks  EXP (Month)       CTC  \n",
       "0                    3                66           19  71406.58  \n",
       "1                    1                84           18  68005.87  \n",
       "2                    2                52           28  76764.02  \n",
       "3                    2                81           33  82092.39  \n",
       "4                    4                74           32  73878.10  "
      ]
     },
     "execution_count": 8,
     "metadata": {},
     "output_type": "execute_result"
    }
   ],
   "source": [
    "# Overview of Data\n",
    "\n",
    "df.head()\n"
   ]
  },
  {
   "cell_type": "code",
   "execution_count": 9,
   "id": "d9b7a8aa",
   "metadata": {},
   "outputs": [
    {
     "data": {
      "text/html": [
       "<div>\n",
       "<style scoped>\n",
       "    .dataframe tbody tr th:only-of-type {\n",
       "        vertical-align: middle;\n",
       "    }\n",
       "\n",
       "    .dataframe tbody tr th {\n",
       "        vertical-align: top;\n",
       "    }\n",
       "\n",
       "    .dataframe thead th {\n",
       "        text-align: right;\n",
       "    }\n",
       "</style>\n",
       "<table border=\"1\" class=\"dataframe\">\n",
       "  <thead>\n",
       "    <tr style=\"text-align: right;\">\n",
       "      <th></th>\n",
       "      <th>Metrio City</th>\n",
       "      <th>non-metro cities</th>\n",
       "    </tr>\n",
       "  </thead>\n",
       "  <tbody>\n",
       "    <tr>\n",
       "      <th>0</th>\n",
       "      <td>Mumbai</td>\n",
       "      <td>Dehradun</td>\n",
       "    </tr>\n",
       "    <tr>\n",
       "      <th>1</th>\n",
       "      <td>Delhi</td>\n",
       "      <td>Durgapur</td>\n",
       "    </tr>\n",
       "    <tr>\n",
       "      <th>2</th>\n",
       "      <td>Kolkata</td>\n",
       "      <td>Asansol</td>\n",
       "    </tr>\n",
       "    <tr>\n",
       "      <th>3</th>\n",
       "      <td>Chennai</td>\n",
       "      <td>Rourkela</td>\n",
       "    </tr>\n",
       "    <tr>\n",
       "      <th>4</th>\n",
       "      <td>Bangalore</td>\n",
       "      <td>Kozhikode</td>\n",
       "    </tr>\n",
       "  </tbody>\n",
       "</table>\n",
       "</div>"
      ],
      "text/plain": [
       "  Metrio City non-metro cities\n",
       "0      Mumbai         Dehradun\n",
       "1       Delhi         Durgapur\n",
       "2     Kolkata          Asansol\n",
       "3     Chennai         Rourkela\n",
       "4   Bangalore        Kozhikode"
      ]
     },
     "execution_count": 9,
     "metadata": {},
     "output_type": "execute_result"
    }
   ],
   "source": [
    "# Overview of City data\n",
    "\n",
    "cities.head()"
   ]
  },
  {
   "cell_type": "code",
   "execution_count": 10,
   "id": "a8fa0522",
   "metadata": {},
   "outputs": [
    {
     "data": {
      "text/html": [
       "<div>\n",
       "<style scoped>\n",
       "    .dataframe tbody tr th:only-of-type {\n",
       "        vertical-align: middle;\n",
       "    }\n",
       "\n",
       "    .dataframe tbody tr th {\n",
       "        vertical-align: top;\n",
       "    }\n",
       "\n",
       "    .dataframe thead th {\n",
       "        text-align: right;\n",
       "    }\n",
       "</style>\n",
       "<table border=\"1\" class=\"dataframe\">\n",
       "  <thead>\n",
       "    <tr style=\"text-align: right;\">\n",
       "      <th></th>\n",
       "      <th>Tier 1</th>\n",
       "      <th>Tier 2</th>\n",
       "      <th>Tier 3</th>\n",
       "    </tr>\n",
       "  </thead>\n",
       "  <tbody>\n",
       "    <tr>\n",
       "      <th>0</th>\n",
       "      <td>IIT Bombay</td>\n",
       "      <td>IIIT Bangalore</td>\n",
       "      <td>Ramaiah Institute of Technology, Bengaluru</td>\n",
       "    </tr>\n",
       "    <tr>\n",
       "      <th>1</th>\n",
       "      <td>IIT Delhi</td>\n",
       "      <td>IIIT Delhi</td>\n",
       "      <td>TIET/Thapar University</td>\n",
       "    </tr>\n",
       "    <tr>\n",
       "      <th>2</th>\n",
       "      <td>IIT Kharagpur</td>\n",
       "      <td>IGDTUW</td>\n",
       "      <td>Manipal Main Campus</td>\n",
       "    </tr>\n",
       "    <tr>\n",
       "      <th>3</th>\n",
       "      <td>IIT Madras</td>\n",
       "      <td>NIT Calicut</td>\n",
       "      <td>VIT Vellore</td>\n",
       "    </tr>\n",
       "    <tr>\n",
       "      <th>4</th>\n",
       "      <td>IIT Kanpur</td>\n",
       "      <td>IIITM Gwalior</td>\n",
       "      <td>SRM Main Campus</td>\n",
       "    </tr>\n",
       "  </tbody>\n",
       "</table>\n",
       "</div>"
      ],
      "text/plain": [
       "          Tier 1          Tier 2                                      Tier 3\n",
       "0     IIT Bombay  IIIT Bangalore  Ramaiah Institute of Technology, Bengaluru\n",
       "1      IIT Delhi      IIIT Delhi                      TIET/Thapar University\n",
       "2  IIT Kharagpur          IGDTUW                         Manipal Main Campus\n",
       "3     IIT Madras     NIT Calicut                                 VIT Vellore\n",
       "4     IIT Kanpur   IIITM Gwalior                             SRM Main Campus"
      ]
     },
     "execution_count": 10,
     "metadata": {},
     "output_type": "execute_result"
    }
   ],
   "source": [
    "# Overview of College data\n",
    "\n",
    "college.head()"
   ]
  },
  {
   "cell_type": "code",
   "execution_count": 11,
   "id": "8086877d",
   "metadata": {},
   "outputs": [],
   "source": [
    "# Extract data from the \"Tier 1,\" \"Tier 2,\" and \"Tier 3\" columns of the 'college' DataSet\n",
    "# and store them in separate lists 'Tier1,' 'Tier2,' and 'Tier3' for next process.\n",
    "\n",
    "Tier1 = college[\"Tier 1\"].tolist()\n",
    "Tier2 = college[\"Tier 2\"].tolist()\n",
    "Tier3 = college[\"Tier 3\"].tolist()"
   ]
  },
  {
   "cell_type": "code",
   "execution_count": 12,
   "id": "04c693c6",
   "metadata": {},
   "outputs": [
    {
     "data": {
      "text/plain": [
       "['IIT Bombay',\n",
       " 'IIT Delhi',\n",
       " 'IIT Kharagpur',\n",
       " 'IIT Madras',\n",
       " 'IIT Kanpur',\n",
       " 'IIT Roorkee',\n",
       " 'IIT Guwahati',\n",
       " 'IIIT Hyderabad',\n",
       " 'BITS Pilani (Pilani Campus)',\n",
       " 'IIT Indore',\n",
       " 'IIT Ropar',\n",
       " 'IIT BHU (Varanasi)',\n",
       " 'IIT ISM Dhanbad',\n",
       " 'DTU',\n",
       " 'NSUT Delhi (NSIT)',\n",
       " 'NIT Tiruchipally (Trichy)',\n",
       " 'NIT Warangal',\n",
       " 'NIT Surathkal (Karnataka)',\n",
       " 'Jadavpur University',\n",
       " 'BITS Pilani (Hyderabad Campus)',\n",
       " 'BITS Pilani (Goa Campus)',\n",
       " 'IIIT Allahabad',\n",
       " nan,\n",
       " nan,\n",
       " nan,\n",
       " nan,\n",
       " nan,\n",
       " nan]"
      ]
     },
     "execution_count": 12,
     "metadata": {},
     "output_type": "execute_result"
    }
   ],
   "source": [
    "# Printing data contains in Tier1 Dataset\n",
    "\n",
    "Tier1"
   ]
  },
  {
   "cell_type": "code",
   "execution_count": 13,
   "id": "13f47fb8",
   "metadata": {},
   "outputs": [],
   "source": [
    "# Assign tier values to colleges in the DataSet based on their tier catagories\n",
    "#  If a college is in'Tier1', setting its value to 3 -\n",
    "#  If a college is in'Tier2', setting its value to 2-\n",
    "#  If a college is in'Tier3', setting its value to 1-\n",
    "# Rankwise Numbering Is Done Here\n",
    "\n",
    "for item in df.College:\n",
    "    if item in Tier1:\n",
    "        df[\"College\"].replace(item,3,inplace=True)\n",
    "    elif item in Tier2:\n",
    "        df[\"College\"].replace(item,2,inplace=True)\n",
    "    elif item in Tier3:\n",
    "        df[\"College\"].replace(item,1,inplace=True)"
   ]
  },
  {
   "cell_type": "code",
   "execution_count": 14,
   "id": "995366ef",
   "metadata": {},
   "outputs": [
    {
     "data": {
      "text/html": [
       "<div>\n",
       "<style scoped>\n",
       "    .dataframe tbody tr th:only-of-type {\n",
       "        vertical-align: middle;\n",
       "    }\n",
       "\n",
       "    .dataframe tbody tr th {\n",
       "        vertical-align: top;\n",
       "    }\n",
       "\n",
       "    .dataframe thead th {\n",
       "        text-align: right;\n",
       "    }\n",
       "</style>\n",
       "<table border=\"1\" class=\"dataframe\">\n",
       "  <thead>\n",
       "    <tr style=\"text-align: right;\">\n",
       "      <th></th>\n",
       "      <th>College</th>\n",
       "      <th>City</th>\n",
       "      <th>Role</th>\n",
       "      <th>Previous CTC</th>\n",
       "      <th>Previous job change</th>\n",
       "      <th>Graduation Marks</th>\n",
       "      <th>EXP (Month)</th>\n",
       "      <th>CTC</th>\n",
       "    </tr>\n",
       "  </thead>\n",
       "  <tbody>\n",
       "    <tr>\n",
       "      <th>0</th>\n",
       "      <td>2</td>\n",
       "      <td>Asansol</td>\n",
       "      <td>Manager</td>\n",
       "      <td>55523.0</td>\n",
       "      <td>3</td>\n",
       "      <td>66</td>\n",
       "      <td>19</td>\n",
       "      <td>71406.58</td>\n",
       "    </tr>\n",
       "    <tr>\n",
       "      <th>1</th>\n",
       "      <td>2</td>\n",
       "      <td>Ajmer</td>\n",
       "      <td>Executive</td>\n",
       "      <td>57081.0</td>\n",
       "      <td>1</td>\n",
       "      <td>84</td>\n",
       "      <td>18</td>\n",
       "      <td>68005.87</td>\n",
       "    </tr>\n",
       "    <tr>\n",
       "      <th>2</th>\n",
       "      <td>1</td>\n",
       "      <td>Rajpur Sonarpur</td>\n",
       "      <td>Executive</td>\n",
       "      <td>60347.0</td>\n",
       "      <td>2</td>\n",
       "      <td>52</td>\n",
       "      <td>28</td>\n",
       "      <td>76764.02</td>\n",
       "    </tr>\n",
       "    <tr>\n",
       "      <th>3</th>\n",
       "      <td>1</td>\n",
       "      <td>Ajmer</td>\n",
       "      <td>Executive</td>\n",
       "      <td>49010.0</td>\n",
       "      <td>2</td>\n",
       "      <td>81</td>\n",
       "      <td>33</td>\n",
       "      <td>82092.39</td>\n",
       "    </tr>\n",
       "    <tr>\n",
       "      <th>4</th>\n",
       "      <td>3</td>\n",
       "      <td>Durgapur</td>\n",
       "      <td>Executive</td>\n",
       "      <td>57879.0</td>\n",
       "      <td>4</td>\n",
       "      <td>74</td>\n",
       "      <td>32</td>\n",
       "      <td>73878.10</td>\n",
       "    </tr>\n",
       "  </tbody>\n",
       "</table>\n",
       "</div>"
      ],
      "text/plain": [
       "   College             City       Role  Previous CTC  Previous job change  \\\n",
       "0        2          Asansol    Manager       55523.0                    3   \n",
       "1        2            Ajmer  Executive       57081.0                    1   \n",
       "2        1  Rajpur Sonarpur  Executive       60347.0                    2   \n",
       "3        1            Ajmer  Executive       49010.0                    2   \n",
       "4        3         Durgapur  Executive       57879.0                    4   \n",
       "\n",
       "   Graduation Marks  EXP (Month)       CTC  \n",
       "0                66           19  71406.58  \n",
       "1                84           18  68005.87  \n",
       "2                52           28  76764.02  \n",
       "3                81           33  82092.39  \n",
       "4                74           32  73878.10  "
      ]
     },
     "execution_count": 14,
     "metadata": {},
     "output_type": "execute_result"
    }
   ],
   "source": [
    "# checking the changes in dataset\n",
    "df.head()"
   ]
  },
  {
   "cell_type": "code",
   "execution_count": 15,
   "id": "bc5c4d40",
   "metadata": {},
   "outputs": [],
   "source": [
    "# Extracting lists of metro and non-metro cities from the 'cities' DataSet\n",
    "\n",
    "metro = cities['Metrio City'].tolist()\n",
    "non_metro_cities = cities['non-metro cities'].tolist()"
   ]
  },
  {
   "cell_type": "code",
   "execution_count": 16,
   "id": "cbb7256d",
   "metadata": {},
   "outputs": [],
   "source": [
    "# Repeating previous steps and assigning value as 1 if city is merto and 0 if non metro city\n",
    "\n",
    "for item in df.City:\n",
    "    if item in metro:\n",
    "        df['City'].replace(item,1,inplace=True)\n",
    "    elif item in non_metro_cities:\n",
    "        df['City'].replace(item,0,inplace=True)"
   ]
  },
  {
   "cell_type": "code",
   "execution_count": 17,
   "id": "80b46f3b",
   "metadata": {},
   "outputs": [
    {
     "data": {
      "text/html": [
       "<div>\n",
       "<style scoped>\n",
       "    .dataframe tbody tr th:only-of-type {\n",
       "        vertical-align: middle;\n",
       "    }\n",
       "\n",
       "    .dataframe tbody tr th {\n",
       "        vertical-align: top;\n",
       "    }\n",
       "\n",
       "    .dataframe thead th {\n",
       "        text-align: right;\n",
       "    }\n",
       "</style>\n",
       "<table border=\"1\" class=\"dataframe\">\n",
       "  <thead>\n",
       "    <tr style=\"text-align: right;\">\n",
       "      <th></th>\n",
       "      <th>College</th>\n",
       "      <th>City</th>\n",
       "      <th>Role</th>\n",
       "      <th>Previous CTC</th>\n",
       "      <th>Previous job change</th>\n",
       "      <th>Graduation Marks</th>\n",
       "      <th>EXP (Month)</th>\n",
       "      <th>CTC</th>\n",
       "    </tr>\n",
       "  </thead>\n",
       "  <tbody>\n",
       "    <tr>\n",
       "      <th>0</th>\n",
       "      <td>2</td>\n",
       "      <td>0</td>\n",
       "      <td>Manager</td>\n",
       "      <td>55523.0</td>\n",
       "      <td>3</td>\n",
       "      <td>66</td>\n",
       "      <td>19</td>\n",
       "      <td>71406.58</td>\n",
       "    </tr>\n",
       "    <tr>\n",
       "      <th>1</th>\n",
       "      <td>2</td>\n",
       "      <td>0</td>\n",
       "      <td>Executive</td>\n",
       "      <td>57081.0</td>\n",
       "      <td>1</td>\n",
       "      <td>84</td>\n",
       "      <td>18</td>\n",
       "      <td>68005.87</td>\n",
       "    </tr>\n",
       "    <tr>\n",
       "      <th>2</th>\n",
       "      <td>1</td>\n",
       "      <td>0</td>\n",
       "      <td>Executive</td>\n",
       "      <td>60347.0</td>\n",
       "      <td>2</td>\n",
       "      <td>52</td>\n",
       "      <td>28</td>\n",
       "      <td>76764.02</td>\n",
       "    </tr>\n",
       "    <tr>\n",
       "      <th>3</th>\n",
       "      <td>1</td>\n",
       "      <td>0</td>\n",
       "      <td>Executive</td>\n",
       "      <td>49010.0</td>\n",
       "      <td>2</td>\n",
       "      <td>81</td>\n",
       "      <td>33</td>\n",
       "      <td>82092.39</td>\n",
       "    </tr>\n",
       "    <tr>\n",
       "      <th>4</th>\n",
       "      <td>3</td>\n",
       "      <td>0</td>\n",
       "      <td>Executive</td>\n",
       "      <td>57879.0</td>\n",
       "      <td>4</td>\n",
       "      <td>74</td>\n",
       "      <td>32</td>\n",
       "      <td>73878.10</td>\n",
       "    </tr>\n",
       "  </tbody>\n",
       "</table>\n",
       "</div>"
      ],
      "text/plain": [
       "   College  City       Role  Previous CTC  Previous job change  \\\n",
       "0        2     0    Manager       55523.0                    3   \n",
       "1        2     0  Executive       57081.0                    1   \n",
       "2        1     0  Executive       60347.0                    2   \n",
       "3        1     0  Executive       49010.0                    2   \n",
       "4        3     0  Executive       57879.0                    4   \n",
       "\n",
       "   Graduation Marks  EXP (Month)       CTC  \n",
       "0                66           19  71406.58  \n",
       "1                84           18  68005.87  \n",
       "2                52           28  76764.02  \n",
       "3                81           33  82092.39  \n",
       "4                74           32  73878.10  "
      ]
     },
     "execution_count": 17,
     "metadata": {},
     "output_type": "execute_result"
    }
   ],
   "source": [
    "# Checking changes in the dataset\n",
    "df.head()"
   ]
  },
  {
   "cell_type": "code",
   "execution_count": 18,
   "id": "58a8696b",
   "metadata": {},
   "outputs": [],
   "source": [
    "# need to Convert Categorical column 'Role' into numerical\n",
    "df = pd.get_dummies(df, drop_first=True"
   ]
  },
  {
   "cell_type": "code",
   "execution_count": 20,
   "id": "117e2c5e",
   "metadata": {},
   "outputs": [
    {
     "data": {
      "text/html": [
       "<div>\n",
       "<style scoped>\n",
       "    .dataframe tbody tr th:only-of-type {\n",
       "        vertical-align: middle;\n",
       "    }\n",
       "\n",
       "    .dataframe tbody tr th {\n",
       "        vertical-align: top;\n",
       "    }\n",
       "\n",
       "    .dataframe thead th {\n",
       "        text-align: right;\n",
       "    }\n",
       "</style>\n",
       "<table border=\"1\" class=\"dataframe\">\n",
       "  <thead>\n",
       "    <tr style=\"text-align: right;\">\n",
       "      <th></th>\n",
       "      <th>College</th>\n",
       "      <th>City</th>\n",
       "      <th>Previous CTC</th>\n",
       "      <th>Previous job change</th>\n",
       "      <th>Graduation Marks</th>\n",
       "      <th>EXP (Month)</th>\n",
       "      <th>CTC</th>\n",
       "      <th>Role_Manager</th>\n",
       "    </tr>\n",
       "  </thead>\n",
       "  <tbody>\n",
       "    <tr>\n",
       "      <th>927</th>\n",
       "      <td>3</td>\n",
       "      <td>1</td>\n",
       "      <td>45588.0</td>\n",
       "      <td>2</td>\n",
       "      <td>81</td>\n",
       "      <td>57</td>\n",
       "      <td>66422.09</td>\n",
       "      <td>False</td>\n",
       "    </tr>\n",
       "    <tr>\n",
       "      <th>1557</th>\n",
       "      <td>3</td>\n",
       "      <td>0</td>\n",
       "      <td>44261.0</td>\n",
       "      <td>4</td>\n",
       "      <td>64</td>\n",
       "      <td>24</td>\n",
       "      <td>75535.50</td>\n",
       "      <td>False</td>\n",
       "    </tr>\n",
       "    <tr>\n",
       "      <th>694</th>\n",
       "      <td>1</td>\n",
       "      <td>0</td>\n",
       "      <td>62261.0</td>\n",
       "      <td>4</td>\n",
       "      <td>39</td>\n",
       "      <td>27</td>\n",
       "      <td>59214.25</td>\n",
       "      <td>False</td>\n",
       "    </tr>\n",
       "    <tr>\n",
       "      <th>835</th>\n",
       "      <td>3</td>\n",
       "      <td>1</td>\n",
       "      <td>58049.0</td>\n",
       "      <td>2</td>\n",
       "      <td>51</td>\n",
       "      <td>42</td>\n",
       "      <td>65084.43</td>\n",
       "      <td>False</td>\n",
       "    </tr>\n",
       "    <tr>\n",
       "      <th>1369</th>\n",
       "      <td>3</td>\n",
       "      <td>0</td>\n",
       "      <td>50011.0</td>\n",
       "      <td>2</td>\n",
       "      <td>72</td>\n",
       "      <td>18</td>\n",
       "      <td>69764.49</td>\n",
       "      <td>False</td>\n",
       "    </tr>\n",
       "    <tr>\n",
       "      <th>499</th>\n",
       "      <td>1</td>\n",
       "      <td>1</td>\n",
       "      <td>64187.0</td>\n",
       "      <td>4</td>\n",
       "      <td>39</td>\n",
       "      <td>62</td>\n",
       "      <td>67432.59</td>\n",
       "      <td>False</td>\n",
       "    </tr>\n",
       "    <tr>\n",
       "      <th>1346</th>\n",
       "      <td>2</td>\n",
       "      <td>1</td>\n",
       "      <td>53124.0</td>\n",
       "      <td>4</td>\n",
       "      <td>40</td>\n",
       "      <td>37</td>\n",
       "      <td>70083.30</td>\n",
       "      <td>False</td>\n",
       "    </tr>\n",
       "    <tr>\n",
       "      <th>1182</th>\n",
       "      <td>2</td>\n",
       "      <td>0</td>\n",
       "      <td>57135.0</td>\n",
       "      <td>2</td>\n",
       "      <td>62</td>\n",
       "      <td>25</td>\n",
       "      <td>61164.74</td>\n",
       "      <td>False</td>\n",
       "    </tr>\n",
       "  </tbody>\n",
       "</table>\n",
       "</div>"
      ],
      "text/plain": [
       "      College  City  Previous CTC  Previous job change  Graduation Marks  \\\n",
       "927         3     1       45588.0                    2                81   \n",
       "1557        3     0       44261.0                    4                64   \n",
       "694         1     0       62261.0                    4                39   \n",
       "835         3     1       58049.0                    2                51   \n",
       "1369        3     0       50011.0                    2                72   \n",
       "499         1     1       64187.0                    4                39   \n",
       "1346        2     1       53124.0                    4                40   \n",
       "1182        2     0       57135.0                    2                62   \n",
       "\n",
       "      EXP (Month)       CTC  Role_Manager  \n",
       "927            57  66422.09         False  \n",
       "1557           24  75535.50         False  \n",
       "694            27  59214.25         False  \n",
       "835            42  65084.43         False  \n",
       "1369           18  69764.49         False  \n",
       "499            62  67432.59         False  \n",
       "1346           37  70083.30         False  \n",
       "1182           25  61164.74         False  "
      ]
     },
     "execution_count": 20,
     "metadata": {},
     "output_type": "execute_result"
    }
   ],
   "source": [
    "df.sample(8)"
   ]
  },
  {
   "cell_type": "markdown",
   "id": "e93f61bd",
   "metadata": {},
   "source": [
    "#### Missing Values"
   ]
  },
  {
   "cell_type": "code",
   "execution_count": 21,
   "id": "24f42f77",
   "metadata": {},
   "outputs": [
    {
     "data": {
      "text/plain": [
       "College                0\n",
       "City                   0\n",
       "Previous CTC           0\n",
       "Previous job change    0\n",
       "Graduation Marks       0\n",
       "EXP (Month)            0\n",
       "CTC                    0\n",
       "Role_Manager           0\n",
       "dtype: int64"
      ]
     },
     "execution_count": 21,
     "metadata": {},
     "output_type": "execute_result"
    }
   ],
   "source": [
    "# Checking missing values in data,this is very importanat task\n",
    "\n",
    "df.isna().sum()"
   ]
  },
  {
   "cell_type": "markdown",
   "id": "824a9488",
   "metadata": {},
   "source": [
    "##### Statistical Information About Numerical Data"
   ]
  },
  {
   "cell_type": "code",
   "execution_count": 23,
   "id": "8ba49665",
   "metadata": {},
   "outputs": [
    {
     "data": {
      "text/html": [
       "<div>\n",
       "<style scoped>\n",
       "    .dataframe tbody tr th:only-of-type {\n",
       "        vertical-align: middle;\n",
       "    }\n",
       "\n",
       "    .dataframe tbody tr th {\n",
       "        vertical-align: top;\n",
       "    }\n",
       "\n",
       "    .dataframe thead th {\n",
       "        text-align: right;\n",
       "    }\n",
       "</style>\n",
       "<table border=\"1\" class=\"dataframe\">\n",
       "  <thead>\n",
       "    <tr style=\"text-align: right;\">\n",
       "      <th></th>\n",
       "      <th>College</th>\n",
       "      <th>City</th>\n",
       "      <th>Previous CTC</th>\n",
       "      <th>Previous job change</th>\n",
       "      <th>Graduation Marks</th>\n",
       "      <th>EXP (Month)</th>\n",
       "      <th>CTC</th>\n",
       "    </tr>\n",
       "  </thead>\n",
       "  <tbody>\n",
       "    <tr>\n",
       "      <th>count</th>\n",
       "      <td>1589.000000</td>\n",
       "      <td>1589.000000</td>\n",
       "      <td>1589.000000</td>\n",
       "      <td>1589.000000</td>\n",
       "      <td>1589.000000</td>\n",
       "      <td>1589.000000</td>\n",
       "      <td>1589.000000</td>\n",
       "    </tr>\n",
       "    <tr>\n",
       "      <th>mean</th>\n",
       "      <td>2.024544</td>\n",
       "      <td>0.514160</td>\n",
       "      <td>55518.453744</td>\n",
       "      <td>2.528634</td>\n",
       "      <td>59.855255</td>\n",
       "      <td>39.044682</td>\n",
       "      <td>75353.278798</td>\n",
       "    </tr>\n",
       "    <tr>\n",
       "      <th>std</th>\n",
       "      <td>0.838330</td>\n",
       "      <td>0.499957</td>\n",
       "      <td>6655.218445</td>\n",
       "      <td>1.123918</td>\n",
       "      <td>14.935139</td>\n",
       "      <td>14.108875</td>\n",
       "      <td>12587.288237</td>\n",
       "    </tr>\n",
       "    <tr>\n",
       "      <th>min</th>\n",
       "      <td>1.000000</td>\n",
       "      <td>0.000000</td>\n",
       "      <td>36990.000000</td>\n",
       "      <td>1.000000</td>\n",
       "      <td>35.000000</td>\n",
       "      <td>18.000000</td>\n",
       "      <td>53020.320000</td>\n",
       "    </tr>\n",
       "    <tr>\n",
       "      <th>25%</th>\n",
       "      <td>1.000000</td>\n",
       "      <td>0.000000</td>\n",
       "      <td>50518.000000</td>\n",
       "      <td>2.000000</td>\n",
       "      <td>46.000000</td>\n",
       "      <td>26.000000</td>\n",
       "      <td>66902.350000</td>\n",
       "    </tr>\n",
       "    <tr>\n",
       "      <th>50%</th>\n",
       "      <td>2.000000</td>\n",
       "      <td>1.000000</td>\n",
       "      <td>55291.000000</td>\n",
       "      <td>3.000000</td>\n",
       "      <td>60.000000</td>\n",
       "      <td>39.000000</td>\n",
       "      <td>73028.670000</td>\n",
       "    </tr>\n",
       "    <tr>\n",
       "      <th>75%</th>\n",
       "      <td>3.000000</td>\n",
       "      <td>1.000000</td>\n",
       "      <td>60109.000000</td>\n",
       "      <td>4.000000</td>\n",
       "      <td>73.000000</td>\n",
       "      <td>51.000000</td>\n",
       "      <td>80588.670000</td>\n",
       "    </tr>\n",
       "    <tr>\n",
       "      <th>max</th>\n",
       "      <td>3.000000</td>\n",
       "      <td>1.000000</td>\n",
       "      <td>77911.000000</td>\n",
       "      <td>4.000000</td>\n",
       "      <td>85.000000</td>\n",
       "      <td>64.000000</td>\n",
       "      <td>123416.990000</td>\n",
       "    </tr>\n",
       "  </tbody>\n",
       "</table>\n",
       "</div>"
      ],
      "text/plain": [
       "           College         City  Previous CTC  Previous job change  \\\n",
       "count  1589.000000  1589.000000   1589.000000          1589.000000   \n",
       "mean      2.024544     0.514160  55518.453744             2.528634   \n",
       "std       0.838330     0.499957   6655.218445             1.123918   \n",
       "min       1.000000     0.000000  36990.000000             1.000000   \n",
       "25%       1.000000     0.000000  50518.000000             2.000000   \n",
       "50%       2.000000     1.000000  55291.000000             3.000000   \n",
       "75%       3.000000     1.000000  60109.000000             4.000000   \n",
       "max       3.000000     1.000000  77911.000000             4.000000   \n",
       "\n",
       "       Graduation Marks  EXP (Month)            CTC  \n",
       "count       1589.000000  1589.000000    1589.000000  \n",
       "mean          59.855255    39.044682   75353.278798  \n",
       "std           14.935139    14.108875   12587.288237  \n",
       "min           35.000000    18.000000   53020.320000  \n",
       "25%           46.000000    26.000000   66902.350000  \n",
       "50%           60.000000    39.000000   73028.670000  \n",
       "75%           73.000000    51.000000   80588.670000  \n",
       "max           85.000000    64.000000  123416.990000  "
      ]
     },
     "execution_count": 23,
     "metadata": {},
     "output_type": "execute_result"
    }
   ],
   "source": [
    "# Statistical information about numerical data we have\n",
    "\n",
    "df.describe()"
   ]
  },
  {
   "cell_type": "markdown",
   "id": "97f46d59",
   "metadata": {},
   "source": [
    "##### Information Of Data And It's Type"
   ]
  },
  {
   "cell_type": "code",
   "execution_count": 22,
   "id": "fd5a2d4c",
   "metadata": {},
   "outputs": [
    {
     "name": "stdout",
     "output_type": "stream",
     "text": [
      "<class 'pandas.core.frame.DataFrame'>\n",
      "RangeIndex: 1589 entries, 0 to 1588\n",
      "Data columns (total 8 columns):\n",
      " #   Column               Non-Null Count  Dtype  \n",
      "---  ------               --------------  -----  \n",
      " 0   College              1589 non-null   int64  \n",
      " 1   City                 1589 non-null   int64  \n",
      " 2   Previous CTC         1589 non-null   float64\n",
      " 3   Previous job change  1589 non-null   int64  \n",
      " 4   Graduation Marks     1589 non-null   int64  \n",
      " 5   EXP (Month)          1589 non-null   int64  \n",
      " 6   CTC                  1589 non-null   float64\n",
      " 7   Role_Manager         1589 non-null   bool   \n",
      "dtypes: bool(1), float64(2), int64(5)\n",
      "memory usage: 88.6 KB\n"
     ]
    }
   ],
   "source": [
    "# Information about data, includes datatype\n",
    "df.info()"
   ]
  },
  {
   "cell_type": "markdown",
   "id": "a8ae0d9a",
   "metadata": {},
   "source": [
    "* ##  Visualizations Used In Data Preprocessing\n",
    "### Detection of Outliers"
   ]
  },
  {
   "cell_type": "code",
   "execution_count": 71,
   "id": "44759f68",
   "metadata": {},
   "outputs": [
    {
     "data": {
      "text/plain": [
       "<Axes: >"
      ]
     },
     "execution_count": 71,
     "metadata": {},
     "output_type": "execute_result"
    },
    {
     "data": {
      "image/png": "[encoded data removed]",
      "text/plain": [
       "<Figure size 640x480 with 1 Axes>"
      ]
     },
     "metadata": {},
     "output_type": "display_data"
    }
   ],
   "source": [
    "# Using seaborn library to plot box plot for detection of outliers\n",
    "sns.boxplot(df['Previous CTC'])"
   ]
  },
  {
   "cell_type": "code",
   "execution_count": 25,
   "id": "b653d78d",
   "metadata": {},
   "outputs": [
    {
     "data": {
      "text/plain": [
       "<Axes: >"
      ]
     },
     "execution_count": 25,
     "metadata": {},
     "output_type": "execute_result"
    },
    {
     "data": {
      "image/png": "[encoded data removed]",
      "text/plain": [
       "<Figure size 640x480 with 1 Axes>"
      ]
     },
     "metadata": {},
     "output_type": "display_data"
    }
   ],
   "source": [
    "sns.boxplot(df['EXP (Month)'])"
   ]
  },
  {
   "cell_type": "code",
   "execution_count": 26,
   "id": "3c5f07a6",
   "metadata": {},
   "outputs": [
    {
     "data": {
      "text/plain": [
       "<Axes: >"
      ]
     },
     "execution_count": 26,
     "metadata": {},
     "output_type": "execute_result"
    },
    {
     "data": {
      "image/png": "[encoded data removed]",
      "text/plain": [
       "<Figure size 640x480 with 1 Axes>"
      ]
     },
     "metadata": {},
     "output_type": "display_data"
    }
   ],
   "source": [
    "sns.boxplot(df['Graduation Marks'])"
   ]
  },
  {
   "cell_type": "code",
   "execution_count": 27,
   "id": "80b82451",
   "metadata": {},
   "outputs": [
    {
     "data": {
      "text/plain": [
       "<Axes: >"
      ]
     },
     "execution_count": 27,
     "metadata": {},
     "output_type": "execute_result"
    },
    {
     "data": {
      "image/png": "[encoded data removed]",
      "text/plain": [
       "<Figure size 640x480 with 1 Axes>"
      ]
     },
     "metadata": {},
     "output_type": "display_data"
    }
   ],
   "source": [
    "sns.boxplot(df['CTC'])"
   ]
  },
  {
   "cell_type": "code",
   "execution_count": 28,
   "id": "019763e3",
   "metadata": {},
   "outputs": [
    {
     "data": {
      "text/html": [
       "<div>\n",
       "<style scoped>\n",
       "    .dataframe tbody tr th:only-of-type {\n",
       "        vertical-align: middle;\n",
       "    }\n",
       "\n",
       "    .dataframe tbody tr th {\n",
       "        vertical-align: top;\n",
       "    }\n",
       "\n",
       "    .dataframe thead th {\n",
       "        text-align: right;\n",
       "    }\n",
       "</style>\n",
       "<table border=\"1\" class=\"dataframe\">\n",
       "  <thead>\n",
       "    <tr style=\"text-align: right;\">\n",
       "      <th></th>\n",
       "      <th>College</th>\n",
       "      <th>City</th>\n",
       "      <th>Previous CTC</th>\n",
       "      <th>Previous job change</th>\n",
       "      <th>Graduation Marks</th>\n",
       "      <th>EXP (Month)</th>\n",
       "      <th>CTC</th>\n",
       "      <th>Role_Manager</th>\n",
       "    </tr>\n",
       "  </thead>\n",
       "  <tbody>\n",
       "    <tr>\n",
       "      <th>College</th>\n",
       "      <td>1.000000</td>\n",
       "      <td>0.014946</td>\n",
       "      <td>-0.041979</td>\n",
       "      <td>0.055060</td>\n",
       "      <td>-0.003539</td>\n",
       "      <td>-0.011752</td>\n",
       "      <td>0.029592</td>\n",
       "      <td>0.014749</td>\n",
       "    </tr>\n",
       "    <tr>\n",
       "      <th>City</th>\n",
       "      <td>0.014946</td>\n",
       "      <td>1.000000</td>\n",
       "      <td>0.004644</td>\n",
       "      <td>0.051670</td>\n",
       "      <td>-0.018616</td>\n",
       "      <td>-0.023613</td>\n",
       "      <td>-0.020365</td>\n",
       "      <td>-0.048671</td>\n",
       "    </tr>\n",
       "    <tr>\n",
       "      <th>Previous CTC</th>\n",
       "      <td>-0.041979</td>\n",
       "      <td>0.004644</td>\n",
       "      <td>1.000000</td>\n",
       "      <td>0.005756</td>\n",
       "      <td>-0.032976</td>\n",
       "      <td>0.119163</td>\n",
       "      <td>0.258000</td>\n",
       "      <td>0.012321</td>\n",
       "    </tr>\n",
       "    <tr>\n",
       "      <th>Previous job change</th>\n",
       "      <td>0.055060</td>\n",
       "      <td>0.051670</td>\n",
       "      <td>0.005756</td>\n",
       "      <td>1.000000</td>\n",
       "      <td>0.019267</td>\n",
       "      <td>0.023488</td>\n",
       "      <td>0.011370</td>\n",
       "      <td>-0.017150</td>\n",
       "    </tr>\n",
       "    <tr>\n",
       "      <th>Graduation Marks</th>\n",
       "      <td>-0.003539</td>\n",
       "      <td>-0.018616</td>\n",
       "      <td>-0.032976</td>\n",
       "      <td>0.019267</td>\n",
       "      <td>1.000000</td>\n",
       "      <td>-0.057061</td>\n",
       "      <td>-0.005450</td>\n",
       "      <td>0.017858</td>\n",
       "    </tr>\n",
       "    <tr>\n",
       "      <th>EXP (Month)</th>\n",
       "      <td>-0.011752</td>\n",
       "      <td>-0.023613</td>\n",
       "      <td>0.119163</td>\n",
       "      <td>0.023488</td>\n",
       "      <td>-0.057061</td>\n",
       "      <td>1.000000</td>\n",
       "      <td>0.301115</td>\n",
       "      <td>-0.026751</td>\n",
       "    </tr>\n",
       "    <tr>\n",
       "      <th>CTC</th>\n",
       "      <td>0.029592</td>\n",
       "      <td>-0.020365</td>\n",
       "      <td>0.258000</td>\n",
       "      <td>0.011370</td>\n",
       "      <td>-0.005450</td>\n",
       "      <td>0.301115</td>\n",
       "      <td>1.000000</td>\n",
       "      <td>0.621311</td>\n",
       "    </tr>\n",
       "    <tr>\n",
       "      <th>Role_Manager</th>\n",
       "      <td>0.014749</td>\n",
       "      <td>-0.048671</td>\n",
       "      <td>0.012321</td>\n",
       "      <td>-0.017150</td>\n",
       "      <td>0.017858</td>\n",
       "      <td>-0.026751</td>\n",
       "      <td>0.621311</td>\n",
       "      <td>1.000000</td>\n",
       "    </tr>\n",
       "  </tbody>\n",
       "</table>\n",
       "</div>"
      ],
      "text/plain": [
       "                      College      City  Previous CTC  Previous job change  \\\n",
       "College              1.000000  0.014946     -0.041979             0.055060   \n",
       "City                 0.014946  1.000000      0.004644             0.051670   \n",
       "Previous CTC        -0.041979  0.004644      1.000000             0.005756   \n",
       "Previous job change  0.055060  0.051670      0.005756             1.000000   \n",
       "Graduation Marks    -0.003539 -0.018616     -0.032976             0.019267   \n",
       "EXP (Month)         -0.011752 -0.023613      0.119163             0.023488   \n",
       "CTC                  0.029592 -0.020365      0.258000             0.011370   \n",
       "Role_Manager         0.014749 -0.048671      0.012321            -0.017150   \n",
       "\n",
       "                     Graduation Marks  EXP (Month)       CTC  Role_Manager  \n",
       "College                     -0.003539    -0.011752  0.029592      0.014749  \n",
       "City                        -0.018616    -0.023613 -0.020365     -0.048671  \n",
       "Previous CTC                -0.032976     0.119163  0.258000      0.012321  \n",
       "Previous job change          0.019267     0.023488  0.011370     -0.017150  \n",
       "Graduation Marks             1.000000    -0.057061 -0.005450      0.017858  \n",
       "EXP (Month)                 -0.057061     1.000000  0.301115     -0.026751  \n",
       "CTC                         -0.005450     0.301115  1.000000      0.621311  \n",
       "Role_Manager                 0.017858    -0.026751  0.621311      1.000000  "
      ]
     },
     "execution_count": 28,
     "metadata": {},
     "output_type": "execute_result"
    }
   ],
   "source": [
    "# Correlation between variables\n",
    "corr = df.corr()\n",
    "corr"
   ]
  },
  {
   "cell_type": "code",
   "execution_count": 32,
   "id": "6e780939",
   "metadata": {},
   "outputs": [
    {
     "data": {
      "text/plain": [
       "<Axes: >"
      ]
     },
     "execution_count": 32,
     "metadata": {},
     "output_type": "execute_result"
    },
    {
     "data": {
      "image/png": "[encoded data removed]",
      "text/plain": [
       "<Figure size 640x480 with 2 Axes>"
      ]
     },
     "metadata": {},
     "output_type": "display_data"
    }
   ],
   "source": [
    "# Visual representation of correlation\n",
    "# Heatmap\n",
    "sns.heatmap(data=corr,cmap='coolwarm')"
   ]
  },
  {
   "cell_type": "code",
   "execution_count": 33,
   "id": "a6c5f94d",
   "metadata": {},
   "outputs": [],
   "source": [
    "import matplotlib.pyplot as plt\n",
    "import seaborn as sns"
   ]
  },
  {
   "cell_type": "code",
   "execution_count": 35,
   "id": "0ad55651",
   "metadata": {},
   "outputs": [
    {
     "data": {
      "image/png": "[encoded data removed]",
      "text/plain": [
       "<Figure size 1200x800 with 1 Axes>"
      ]
     },
     "metadata": {},
     "output_type": "display_data"
    }
   ],
   "source": [
    "plt.figure(figsize=(12, 8))\n",
    "sns.boxplot(data=df)\n",
    "plt.title('Boxplot to Detect Outliers')\n",
    "plt.show()\n",
    "# 2nd way to show outliers"
   ]
  },
  {
   "cell_type": "markdown",
   "id": "85c25910",
   "metadata": {},
   "source": [
    "#### Outliers present in CTC column"
   ]
  },
  {
   "cell_type": "code",
   "execution_count": 37,
   "id": "88603f32",
   "metadata": {},
   "outputs": [],
   "source": [
    "percent25 = df['Previous CTC'].quantile(0.25)\n",
    "percent75 = df['Previous CTC'].quantile(0.75)"
   ]
  },
  {
   "cell_type": "code",
   "execution_count": 40,
   "id": "083bfc90",
   "metadata": {},
   "outputs": [],
   "source": [
    "iqr = percent75-percent25"
   ]
  },
  {
   "cell_type": "code",
   "execution_count": 39,
   "id": "17580a81",
   "metadata": {},
   "outputs": [],
   "source": [
    "upper_limit = percent75 + 1.5*iqr\n",
    "lower_limit = percent25 - 1.5*iqr"
   ]
  },
  {
   "cell_type": "code",
   "execution_count": 41,
   "id": "c25de5d4",
   "metadata": {},
   "outputs": [
    {
     "data": {
      "text/html": [
       "<div>\n",
       "<style scoped>\n",
       "    .dataframe tbody tr th:only-of-type {\n",
       "        vertical-align: middle;\n",
       "    }\n",
       "\n",
       "    .dataframe tbody tr th {\n",
       "        vertical-align: top;\n",
       "    }\n",
       "\n",
       "    .dataframe thead th {\n",
       "        text-align: right;\n",
       "    }\n",
       "</style>\n",
       "<table border=\"1\" class=\"dataframe\">\n",
       "  <thead>\n",
       "    <tr style=\"text-align: right;\">\n",
       "      <th></th>\n",
       "      <th>College</th>\n",
       "      <th>City</th>\n",
       "      <th>Previous CTC</th>\n",
       "      <th>Previous job change</th>\n",
       "      <th>Graduation Marks</th>\n",
       "      <th>EXP (Month)</th>\n",
       "      <th>CTC</th>\n",
       "      <th>Role_Manager</th>\n",
       "    </tr>\n",
       "  </thead>\n",
       "  <tbody>\n",
       "    <tr>\n",
       "      <th>116</th>\n",
       "      <td>1</td>\n",
       "      <td>1</td>\n",
       "      <td>77911.0</td>\n",
       "      <td>1</td>\n",
       "      <td>50</td>\n",
       "      <td>58</td>\n",
       "      <td>87831.62</td>\n",
       "      <td>False</td>\n",
       "    </tr>\n",
       "    <tr>\n",
       "      <th>860</th>\n",
       "      <td>3</td>\n",
       "      <td>1</td>\n",
       "      <td>75785.0</td>\n",
       "      <td>4</td>\n",
       "      <td>63</td>\n",
       "      <td>37</td>\n",
       "      <td>110338.25</td>\n",
       "      <td>True</td>\n",
       "    </tr>\n",
       "    <tr>\n",
       "      <th>1088</th>\n",
       "      <td>1</td>\n",
       "      <td>1</td>\n",
       "      <td>76815.0</td>\n",
       "      <td>4</td>\n",
       "      <td>75</td>\n",
       "      <td>52</td>\n",
       "      <td>82684.17</td>\n",
       "      <td>False</td>\n",
       "    </tr>\n",
       "    <tr>\n",
       "      <th>1317</th>\n",
       "      <td>3</td>\n",
       "      <td>0</td>\n",
       "      <td>76070.0</td>\n",
       "      <td>2</td>\n",
       "      <td>54</td>\n",
       "      <td>18</td>\n",
       "      <td>58309.56</td>\n",
       "      <td>False</td>\n",
       "    </tr>\n",
       "    <tr>\n",
       "      <th>1454</th>\n",
       "      <td>3</td>\n",
       "      <td>1</td>\n",
       "      <td>77911.0</td>\n",
       "      <td>1</td>\n",
       "      <td>50</td>\n",
       "      <td>58</td>\n",
       "      <td>87831.62</td>\n",
       "      <td>False</td>\n",
       "    </tr>\n",
       "  </tbody>\n",
       "</table>\n",
       "</div>"
      ],
      "text/plain": [
       "      College  City  Previous CTC  Previous job change  Graduation Marks  \\\n",
       "116         1     1       77911.0                    1                50   \n",
       "860         3     1       75785.0                    4                63   \n",
       "1088        1     1       76815.0                    4                75   \n",
       "1317        3     0       76070.0                    2                54   \n",
       "1454        3     1       77911.0                    1                50   \n",
       "\n",
       "      EXP (Month)        CTC  Role_Manager  \n",
       "116            58   87831.62         False  \n",
       "860            37  110338.25          True  \n",
       "1088           52   82684.17         False  \n",
       "1317           18   58309.56         False  \n",
       "1454           58   87831.62         False  "
      ]
     },
     "execution_count": 41,
     "metadata": {},
     "output_type": "execute_result"
    }
   ],
   "source": [
    "df[(df['Previous CTC'] < lower_limit) | (df['Previous CTC'] > upper_limit)]"
   ]
  },
  {
   "cell_type": "markdown",
   "id": "0de54049",
   "metadata": {},
   "source": [
    "###### In the above DataFrame, These are outliers present in \"Previous CTC\"column. As seen these outliers are not extreme, so in my opinion keeping these data may not affect much on my model."
   ]
  },
  {
   "cell_type": "code",
   "execution_count": 43,
   "id": "73120d39",
   "metadata": {},
   "outputs": [],
   "source": [
    "percent25 = df['CTC'].quantile(0.25)\n",
    "percent75 = df['CTC'].quantile(0.75)"
   ]
  },
  {
   "cell_type": "code",
   "execution_count": 44,
   "id": "241c3b5e",
   "metadata": {},
   "outputs": [],
   "source": [
    "iqr = percent75-percent25"
   ]
  },
  {
   "cell_type": "code",
   "execution_count": 45,
   "id": "e7d6399b",
   "metadata": {},
   "outputs": [],
   "source": [
    "upper_limit = percent75 + 1.5*iqr\n",
    "lower_limit = percent25 - 1.5*iqr"
   ]
  },
  {
   "cell_type": "code",
   "execution_count": 46,
   "id": "ef0a9496",
   "metadata": {},
   "outputs": [
    {
     "data": {
      "text/html": [
       "<div>\n",
       "<style scoped>\n",
       "    .dataframe tbody tr th:only-of-type {\n",
       "        vertical-align: middle;\n",
       "    }\n",
       "\n",
       "    .dataframe tbody tr th {\n",
       "        vertical-align: top;\n",
       "    }\n",
       "\n",
       "    .dataframe thead th {\n",
       "        text-align: right;\n",
       "    }\n",
       "</style>\n",
       "<table border=\"1\" class=\"dataframe\">\n",
       "  <thead>\n",
       "    <tr style=\"text-align: right;\">\n",
       "      <th></th>\n",
       "      <th>College</th>\n",
       "      <th>City</th>\n",
       "      <th>Previous CTC</th>\n",
       "      <th>Previous job change</th>\n",
       "      <th>Graduation Marks</th>\n",
       "      <th>EXP (Month)</th>\n",
       "      <th>CTC</th>\n",
       "      <th>Role_Manager</th>\n",
       "    </tr>\n",
       "  </thead>\n",
       "  <tbody>\n",
       "    <tr>\n",
       "      <th>14</th>\n",
       "      <td>1</td>\n",
       "      <td>0</td>\n",
       "      <td>66487.0</td>\n",
       "      <td>1</td>\n",
       "      <td>50</td>\n",
       "      <td>27</td>\n",
       "      <td>103595.83</td>\n",
       "      <td>True</td>\n",
       "    </tr>\n",
       "    <tr>\n",
       "      <th>29</th>\n",
       "      <td>2</td>\n",
       "      <td>0</td>\n",
       "      <td>65172.0</td>\n",
       "      <td>1</td>\n",
       "      <td>44</td>\n",
       "      <td>31</td>\n",
       "      <td>107138.14</td>\n",
       "      <td>True</td>\n",
       "    </tr>\n",
       "    <tr>\n",
       "      <th>30</th>\n",
       "      <td>3</td>\n",
       "      <td>0</td>\n",
       "      <td>58529.0</td>\n",
       "      <td>1</td>\n",
       "      <td>65</td>\n",
       "      <td>22</td>\n",
       "      <td>102763.61</td>\n",
       "      <td>True</td>\n",
       "    </tr>\n",
       "    <tr>\n",
       "      <th>34</th>\n",
       "      <td>3</td>\n",
       "      <td>0</td>\n",
       "      <td>60894.0</td>\n",
       "      <td>4</td>\n",
       "      <td>80</td>\n",
       "      <td>28</td>\n",
       "      <td>118651.89</td>\n",
       "      <td>True</td>\n",
       "    </tr>\n",
       "    <tr>\n",
       "      <th>38</th>\n",
       "      <td>2</td>\n",
       "      <td>0</td>\n",
       "      <td>57485.0</td>\n",
       "      <td>1</td>\n",
       "      <td>77</td>\n",
       "      <td>35</td>\n",
       "      <td>103774.34</td>\n",
       "      <td>True</td>\n",
       "    </tr>\n",
       "    <tr>\n",
       "      <th>...</th>\n",
       "      <td>...</td>\n",
       "      <td>...</td>\n",
       "      <td>...</td>\n",
       "      <td>...</td>\n",
       "      <td>...</td>\n",
       "      <td>...</td>\n",
       "      <td>...</td>\n",
       "      <td>...</td>\n",
       "    </tr>\n",
       "    <tr>\n",
       "      <th>1447</th>\n",
       "      <td>1</td>\n",
       "      <td>0</td>\n",
       "      <td>59099.0</td>\n",
       "      <td>2</td>\n",
       "      <td>67</td>\n",
       "      <td>63</td>\n",
       "      <td>103305.30</td>\n",
       "      <td>True</td>\n",
       "    </tr>\n",
       "    <tr>\n",
       "      <th>1461</th>\n",
       "      <td>3</td>\n",
       "      <td>0</td>\n",
       "      <td>55440.0</td>\n",
       "      <td>4</td>\n",
       "      <td>72</td>\n",
       "      <td>44</td>\n",
       "      <td>112826.26</td>\n",
       "      <td>True</td>\n",
       "    </tr>\n",
       "    <tr>\n",
       "      <th>1513</th>\n",
       "      <td>1</td>\n",
       "      <td>0</td>\n",
       "      <td>58639.0</td>\n",
       "      <td>2</td>\n",
       "      <td>46</td>\n",
       "      <td>63</td>\n",
       "      <td>109108.12</td>\n",
       "      <td>True</td>\n",
       "    </tr>\n",
       "    <tr>\n",
       "      <th>1523</th>\n",
       "      <td>2</td>\n",
       "      <td>1</td>\n",
       "      <td>70258.0</td>\n",
       "      <td>4</td>\n",
       "      <td>38</td>\n",
       "      <td>36</td>\n",
       "      <td>115126.75</td>\n",
       "      <td>True</td>\n",
       "    </tr>\n",
       "    <tr>\n",
       "      <th>1580</th>\n",
       "      <td>3</td>\n",
       "      <td>1</td>\n",
       "      <td>53027.0</td>\n",
       "      <td>4</td>\n",
       "      <td>69</td>\n",
       "      <td>55</td>\n",
       "      <td>106846.34</td>\n",
       "      <td>False</td>\n",
       "    </tr>\n",
       "  </tbody>\n",
       "</table>\n",
       "<p>94 rows × 8 columns</p>\n",
       "</div>"
      ],
      "text/plain": [
       "      College  City  Previous CTC  Previous job change  Graduation Marks  \\\n",
       "14          1     0       66487.0                    1                50   \n",
       "29          2     0       65172.0                    1                44   \n",
       "30          3     0       58529.0                    1                65   \n",
       "34          3     0       60894.0                    4                80   \n",
       "38          2     0       57485.0                    1                77   \n",
       "...       ...   ...           ...                  ...               ...   \n",
       "1447        1     0       59099.0                    2                67   \n",
       "1461        3     0       55440.0                    4                72   \n",
       "1513        1     0       58639.0                    2                46   \n",
       "1523        2     1       70258.0                    4                38   \n",
       "1580        3     1       53027.0                    4                69   \n",
       "\n",
       "      EXP (Month)        CTC  Role_Manager  \n",
       "14             27  103595.83          True  \n",
       "29             31  107138.14          True  \n",
       "30             22  102763.61          True  \n",
       "34             28  118651.89          True  \n",
       "38             35  103774.34          True  \n",
       "...           ...        ...           ...  \n",
       "1447           63  103305.30          True  \n",
       "1461           44  112826.26          True  \n",
       "1513           63  109108.12          True  \n",
       "1523           36  115126.75          True  \n",
       "1580           55  106846.34         False  \n",
       "\n",
       "[94 rows x 8 columns]"
      ]
     },
     "execution_count": 46,
     "metadata": {},
     "output_type": "execute_result"
    }
   ],
   "source": [
    "df[(df['CTC'] < lower_limit) | (df['CTC'] > upper_limit)]"
   ]
  },
  {
   "cell_type": "markdown",
   "id": "6dde3add",
   "metadata": {},
   "source": [
    "###### As seen above, these are some outliers in \"CTC\" column but they are not as extreme that can make any huge difference while making prediction. Therefore in my opinion keeping those outliers into data is more useful than removing."
   ]
  },
  {
   "cell_type": "markdown",
   "id": "8be49b46",
   "metadata": {},
   "source": [
    "\n",
    "\n",
    "\n",
    "## Conclusion on Detection of Outliers:\n",
    " \n",
    " \n",
    " * No Significant Outliers: Analysis of the data indicates that there aren't any extreme outliers likely to drastically impact the machine learning model's performance. The summary from the describe() function confirms that the data is fairly clean in this regard.\n",
    " \n",
    " \n",
    " * Previous CTC and CTC Outliers: Although there are a few outliers in the \"Previous CTC\" and \"CTC\" columns, these outliers are considered part of the natural variability of the data and are not expected to negatively affect the model. In fact, they might provide valuable information for predictions.\n",
    "\n",
    "\n",
    " * Correlation Insights: The heatmap reveals some interesting relationships, particularly between Role_manager and CTC, as well as between Previous CTC and CTC. These correlations could be significant predictors of salary and are worth considering in the model."
   ]
  },
  {
   "cell_type": "markdown",
   "id": "feb1567b",
   "metadata": {},
   "source": [
    "## Running Machine Learning Models Without Feature Scaling-"
   ]
  },
  {
   "cell_type": "code",
   "execution_count": 61,
   "id": "c128bfd1",
   "metadata": {},
   "outputs": [],
   "source": [
    "# Import necessary libraries for data splitting, modeling, and evaluation\n",
    "\n",
    "from sklearn.model_selection import train_test_split\n",
    "from sklearn.linear_model import LinearRegression, Ridge, Lasso\n",
    "from sklearn.metrics import r2_score, mean_absolute_error, mean_squared_error\n",
    "\n",
    "# Import DecisionTreeRegressor\n",
    "from sklearn.tree import DecisionTreeRegressor\n",
    "\n",
    "# Import Random Forest from sklearn\n",
    "from sklearn.ensemble import RandomForestRegressor\n",
    "from sklearn.model_selection import GridSearchCV\n"
   ]
  },
  {
   "cell_type": "markdown",
   "id": "76e90130",
   "metadata": {},
   "source": [
    "#### Split Data Into Training And Testing Sets"
   ]
  },
  {
   "cell_type": "code",
   "execution_count": 48,
   "id": "2b4a87dd",
   "metadata": {},
   "outputs": [],
   "source": [
    "# Split data into dependent and Independent Variable\n",
    "\n",
    "X = df.loc[:, df.columns != 'CTC']\n",
    "y = df['CTC']"
   ]
  },
  {
   "cell_type": "code",
   "execution_count": 49,
   "id": "24b52ce3",
   "metadata": {},
   "outputs": [],
   "source": [
    "# Split Data into train and test with test_size = 0.2(80% data into train and 20% to test)\n",
    "\n",
    "X_train, X_test, y_train, y_test = train_test_split(X, y, test_size = 0.2, random_state = 42)"
   ]
  },
  {
   "cell_type": "code",
   "execution_count": 50,
   "id": "4e9d3627",
   "metadata": {},
   "outputs": [
    {
     "data": {
      "text/plain": [
       "1079     74059.06\n",
       "405      84692.16\n",
       "1492     75028.75\n",
       "239      71001.53\n",
       "610      62426.39\n",
       "          ...    \n",
       "1023     67435.46\n",
       "700      62927.79\n",
       "486      75143.25\n",
       "672      60479.67\n",
       "1303    105077.70\n",
       "Name: CTC, Length: 318, dtype: float64"
      ]
     },
     "execution_count": 50,
     "metadata": {},
     "output_type": "execute_result"
    }
   ],
   "source": [
    "y_test"
   ]
  },
  {
   "cell_type": "markdown",
   "id": "858596eb",
   "metadata": {},
   "source": [
    "#### Linear Regression Model"
   ]
  },
  {
   "cell_type": "code",
   "execution_count": 51,
   "id": "7b8f53f1",
   "metadata": {},
   "outputs": [
    {
     "name": "stdout",
     "output_type": "stream",
     "text": [
      "r2_score: 0.5933517958385095\n",
      "MAE: 7191.23106750003\n",
      "MSE: 77362774.9495653\n",
      "\n",
      "Coef: [5.17509158e+02 4.82800374e+02 4.22242899e-01 8.74331790e+00\n",
      " 1.94023127e+00 2.43718541e+02 1.86020838e+04]\n",
      "Intercept: 37159.52949669529\n"
     ]
    }
   ],
   "source": [
    "# LinearRegression model\n",
    "linear_reg = LinearRegression()\n",
    "\n",
    "# Fit the model to the training data\n",
    "linear_reg.fit(X_train, y_train)\n",
    "\n",
    "# Make predictions on the test data\n",
    "linear_reg_pred = linear_reg.predict(X_test)\n",
    "\n",
    "# Calculate and print the R-squared (r2) score\n",
    "print(\"r2_score:\",r2_score(y_test, linear_reg_pred))\n",
    "\n",
    "# Calculate and print the Mean Absolute Error (MAE)\n",
    "print(\"MAE:\", mean_absolute_error(y_test, linear_reg_pred))\n",
    "\n",
    "# Calculate and print the Mean Squared Error (MSE)\n",
    "print(\"MSE:\", mean_squared_error(y_test, linear_reg_pred))\n",
    "\n",
    "print()\n",
    "\n",
    "# Print the coefficients of the linear regression model\n",
    "print(\"Coef:\",linear_reg.coef_)\n",
    "\n",
    "# Print the intercept of the linear regression model\n",
    "print(\"Intercept:\",linear_reg.intercept_)"
   ]
  },
  {
   "cell_type": "markdown",
   "id": "c4580cd5",
   "metadata": {},
   "source": [
    "#### Ridge Regression Model"
   ]
  },
  {
   "cell_type": "code",
   "execution_count": 53,
   "id": "3216d6aa",
   "metadata": {},
   "outputs": [
    {
     "name": "stdout",
     "output_type": "stream",
     "text": [
      "r2_score: 0.5926580862926116\n",
      "MAE: 7198.215276305912\n",
      "MSE: 77494749.70054282\n",
      "\n",
      "Coef: [5.16821192e+02 4.76920014e+02 4.22312444e-01 7.76895529e+00\n",
      " 1.98601422e+00 2.43648895e+02 1.85111317e+04]\n",
      "Intercept: 37180.93708654535\n"
     ]
    }
   ],
   "source": [
    "# Import the Ridge regression model\n",
    "ridge = Ridge()\n",
    "\n",
    "# Fit the model to training data\n",
    "ridge.fit(X_train, y_train)\n",
    "\n",
    "# Make prediction on test data\n",
    "ridge_predict = ridge.predict(X_test)\n",
    "\n",
    "# Calculate and print the R-squared (r2) score\n",
    "print(\"r2_score:\",r2_score(y_test, ridge_predict))\n",
    "\n",
    "# Calculate and print the Mean Absolute Error (MAE)\n",
    "print(\"MAE:\", mean_absolute_error(y_test, ridge_predict))\n",
    "\n",
    "# Calculate and print the Mean Squared Error (MSE)\n",
    "print(\"MSE:\", mean_squared_error(y_test, ridge_predict))\n",
    "\n",
    "print()\n",
    "\n",
    "# Print the coefficients of the linear regression model\n",
    "print(\"Coef:\",ridge.coef_)\n",
    "\n",
    "# Print the intercept of the linear regression model\n",
    "print(\"Intercept:\",ridge.intercept_)"
   ]
  },
  {
   "cell_type": "markdown",
   "id": "05c5bbdd",
   "metadata": {},
   "source": [
    "#### Ridge Regression Model With A Specified Alpha Value"
   ]
  },
  {
   "cell_type": "code",
   "execution_count": 55,
   "id": "56dbb64f",
   "metadata": {},
   "outputs": [
    {
     "name": "stdout",
     "output_type": "stream",
     "text": [
      "r2_score: 0.5926580862926116\n",
      "MAE: 7198.215276305912\n",
      "MSE: 77494749.70054282\n",
      "\n",
      "Coef: [5.17302519e+02 4.81027864e+02 4.22263836e-01 8.44992996e+00\n",
      " 1.95401218e+00 2.43697575e+02 1.85747043e+04]\n",
      "Intercept: 37165.974309073834\n"
     ]
    }
   ],
   "source": [
    "# Create a Ridge regression model with a specified alpha value and solver\n",
    "ridge_tuned = Ridge(alpha=0.3, solver='cholesky')\n",
    "\n",
    "# Fit the Ridge model to the training data\n",
    "ridge_tuned.fit(X_train, y_train)\n",
    "\n",
    "# Make predictions on the test data using the tuned Ridge model\n",
    "ridge_predict_tuned = ridge.predict(X_test)\n",
    "\n",
    "# Calculate and print the R-squared (r2) score to evaluate model performance\n",
    "print(\"r2_score:\",r2_score(y_test, ridge_predict_tuned))\n",
    "\n",
    "# Calculate and print the Mean Absolute Error (MAE) to measure prediction accuracy\n",
    "print(\"MAE:\", mean_absolute_error(y_test, ridge_predict_tuned))\n",
    "\n",
    "# Calculate and print the Mean Squared Error (MSE) to assess prediction accuracy\n",
    "print(\"MSE:\", mean_squared_error(y_test, ridge_predict_tuned))\n",
    "\n",
    "print()\n",
    "\n",
    "# Print the coefficients of the linear regression model\n",
    "print(\"Coef:\",ridge_tuned.coef_)\n",
    "\n",
    "# Print the intercept of the linear regression model\n",
    "print(\"Intercept:\",ridge_tuned.intercept_)"
   ]
  },
  {
   "cell_type": "markdown",
   "id": "133cf9f5",
   "metadata": {},
   "source": [
    "#### Lasso Regression"
   ]
  },
  {
   "cell_type": "code",
   "execution_count": 54,
   "id": "7cd0f4b1",
   "metadata": {},
   "outputs": [
    {
     "name": "stdout",
     "output_type": "stream",
     "text": [
      "r2_score: 0.5933030911807144\n",
      "MAE: 7191.7094203244\n",
      "MSE: 77372040.76567228\n",
      "\n",
      "Coef: [5.16164197e+02 4.78595253e+02 4.22241674e-01 8.05923215e+00\n",
      " 1.93522068e+00 2.43703723e+02 1.85954658e+04]\n",
      "Intercept: 37168.432177131945\n"
     ]
    }
   ],
   "source": [
    "# Create Lasso regression with default parameters\n",
    "\n",
    "lasso = Lasso()\n",
    "\n",
    "# Fit model with train data\n",
    "lasso.fit(X_train, y_train)\n",
    "\n",
    "# Make prediction on test data\n",
    "lasso_pred = lasso.predict(X_test)\n",
    "\n",
    "# Calculate and print the R-squared (r2) score to evaluate model performance\n",
    "print(\"r2_score:\",r2_score(y_test, lasso_pred))\n",
    "\n",
    "# Calculate and print the Mean Absolute Error (MAE) to measure prediction accuracy\n",
    "print(\"MAE:\", mean_absolute_error(y_test, lasso_pred))\n",
    "\n",
    "# Calculate and print the Mean Squared Error (MSE) to assess prediction accuracy\n",
    "print(\"MSE:\", mean_squared_error(y_test, lasso_pred))\n",
    "\n",
    "print()\n",
    "\n",
    "# Print the coefficients of the linear regression model\n",
    "print(\"Coef:\",lasso.coef_)\n",
    "\n",
    "# Print the intercept of the linear regression model\n",
    "print(\"Intercept:\",lasso.intercept_)"
   ]
  },
  {
   "cell_type": "markdown",
   "id": "0a2d0555",
   "metadata": {},
   "source": [
    "#### Lasso Regression Model With Alpha Value"
   ]
  },
  {
   "cell_type": "code",
   "execution_count": 56,
   "id": "6bc4976e",
   "metadata": {},
   "outputs": [
    {
     "name": "stdout",
     "output_type": "stream",
     "text": [
      "r2_score: 0.5933372007824145\n",
      "MAE: 7191.374573405911\n",
      "MSE: 77365551.58555806\n"
     ]
    }
   ],
   "source": [
    "# Create Lasso regression with alpha value\n",
    "lasso_tuned = Lasso(alpha=0.3)\n",
    "\n",
    "# Fit the model on train data\n",
    "lasso_tuned.fit(X_train, y_train)\n",
    "\n",
    "# Prediction on test data\n",
    "lasso_tuned_pred = lasso_tuned.predict(X_test)\n",
    "\n",
    "# Calculate and print the R-squared (r2) score to evaluate model performance\n",
    "print(\"r2_score:\",r2_score(y_test, lasso_tuned_pred))\n",
    "\n",
    "# Calculate and print the mean absolute error(MSE) score to evaluate model performance\n",
    "print(\"MAE:\", mean_absolute_error(y_test, lasso_tuned_pred))\n",
    "\n",
    "# Calculate and print the Mean Squared Error (MSE) to assess prediction accuracy\n",
    "print(\"MSE:\", mean_squared_error(y_test, lasso_tuned_pred))"
   ]
  },
  {
   "cell_type": "markdown",
   "id": "692d5763",
   "metadata": {},
   "source": [
    " #### DecisionTreeRegressor Model"
   ]
  },
  {
   "cell_type": "code",
   "execution_count": 60,
   "id": "faecd791",
   "metadata": {},
   "outputs": [
    {
     "name": "stdout",
     "output_type": "stream",
     "text": [
      "r2_score: 0.3246898332595467\n",
      "MAE: 8368.60254716981\n",
      "MSE: 128474361.66212043\n"
     ]
    }
   ],
   "source": [
    "# Create a DecisionTreeRegressor model\n",
    "dtr = DecisionTreeRegressor()\n",
    "\n",
    "# Train the model using the training data\n",
    "dtr.fit(X_train, y_train)\n",
    "\n",
    "# Train the model using the training data\n",
    "dtr_pred = dtr.predict(X_test)\n",
    "\n",
    "# Calculate and print the R-squared (r2) score to evaluate model performance\n",
    "print(\"r2_score:\",r2_score(y_test, dtr_pred))\n",
    "\n",
    "# Calculate and print the mean absolute error(MSE) score to evaluate model performance\n",
    "print(\"MAE:\", mean_absolute_error(y_test, dtr_pred))\n",
    "\n",
    "# Calculate and print the Mean Squared Error (MSE) to evaluate prediction errors\n",
    "print(\"MSE:\", mean_squared_error(y_test, dtr_pred))"
   ]
  },
  {
   "cell_type": "markdown",
   "id": "1fbab19c",
   "metadata": {},
   "source": [
    "#### Random Forest Regression Model"
   ]
  },
  {
   "cell_type": "code",
   "execution_count": 62,
   "id": "350f4aed",
   "metadata": {},
   "outputs": [
    {
     "name": "stdout",
     "output_type": "stream",
     "text": [
      "r2_score: 0.6454858465976178\n",
      "MAE: 6265.506445283019\n",
      "MSE: 67444534.08482905\n"
     ]
    }
   ],
   "source": [
    "# Create Random forest regression on default parameters\n",
    "rnd = RandomForestRegressor()\n",
    "\n",
    "# Fit model on train data\n",
    "rnd.fit(X_train, y_train)\n",
    "\n",
    "# Make prediction on test data\n",
    "rnd_pred = rnd.predict(X_test)\n",
    "\n",
    "# Calculate and print the R-squared (r2) score to evaluate model performance\n",
    "print(\"r2_score:\",r2_score(y_test, rnd_pred))\n",
    "\n",
    "# Calculate and print the mean absolute error(MSE) score to evaluate model performance\n",
    "print(\"MAE:\", mean_absolute_error(y_test, rnd_pred))\n",
    "\n",
    "# Calculate and print the Mean Squared Error (MSE) to evaluate prediction errors\n",
    "print(\"MSE:\", mean_squared_error(y_test, rnd_pred))"
   ]
  },
  {
   "cell_type": "markdown",
   "id": "7f90c109",
   "metadata": {},
   "source": [
    "#### Random Forest regression with tuned parameters"
   ]
  },
  {
   "cell_type": "code",
   "execution_count": 64,
   "id": "64db63a0",
   "metadata": {},
   "outputs": [
    {
     "name": "stdout",
     "output_type": "stream",
     "text": [
      "r2_score: 0.6415701247402137\n",
      "MAE: 6347.4630952991165\n",
      "MSE: 68189480.46776979\n"
     ]
    }
   ],
   "source": [
    "# To get better preformnace , creating model with tuned parameters\n",
    "# Create Random Forest regression with tuned parameters\n",
    "rnd_tuned = RandomForestRegressor(n_jobs=-1, max_features=5, min_samples_split=3)\n",
    "\n",
    "# Fit model on train data\n",
    "rnd_tuned.fit(X_train, y_train)\n",
    "\n",
    "# Make prediction on test data\n",
    "rnd_tuned_pred = rnd_tuned.predict(X_test)\n",
    "\n",
    "# Calculate and print the R-squared (r2) score to evaluate model performance\n",
    "print(\"r2_score:\",r2_score(y_test, rnd_tuned_pred))\n",
    "\n",
    "# Calculate and print the mean absolute error(MSE) score to evaluate model performance\n",
    "print(\"MAE:\", mean_absolute_error(y_test, rnd_tuned_pred))\n",
    "\n",
    "# Calculate and print the Mean Squared Error (MSE) to evaluate prediction errors\n",
    "print(\"MSE:\", mean_squared_error(y_test, rnd_tuned_pred))"
   ]
  },
  {
   "cell_type": "markdown",
   "id": "1656ef0e",
   "metadata": {},
   "source": [
    "##### Evaluating The Performance"
   ]
  },
  {
   "cell_type": "code",
   "execution_count": 65,
   "id": "09c2497a",
   "metadata": {},
   "outputs": [],
   "source": [
    "# Parameters\n",
    "params_grid = {\"max_features\": [4,5,6,7,8,9,10],\n",
    "              \"min_samples_split\": [2,3,10]}"
   ]
  },
  {
   "cell_type": "code",
   "execution_count": 66,
   "id": "b7b88a20",
   "metadata": {},
   "outputs": [],
   "source": [
    "# Find best parameter for model\n",
    "grid_search = GridSearchCV(rnd_tuned, params_grid, n_jobs=-1, cv=5)"
   ]
  },
  {
   "cell_type": "code",
   "execution_count": 68,
   "id": "ed804fe0",
   "metadata": {},
   "outputs": [
    {
     "data": {
      "text/html": [
       "<style>#sk-container-id-2 {color: black;}#sk-container-id-2 pre{padding: 0;}#sk-container-id-2 div.sk-toggleable {background-color: white;}#sk-container-id-2 label.sk-toggleable__label {cursor: pointer;display: block;width: 100%;margin-bottom: 0;padding: 0.3em;box-sizing: border-box;text-align: center;}#sk-container-id-2 label.sk-toggleable__label-arrow:before {content: \"▸\";float: left;margin-right: 0.25em;color: #696969;}#sk-container-id-2 label.sk-toggleable__label-arrow:hover:before {color: black;}#sk-container-id-2 div.sk-estimator:hover label.sk-toggleable__label-arrow:before {color: black;}#sk-container-id-2 div.sk-toggleable__content {max-height: 0;max-width: 0;overflow: hidden;text-align: left;background-color: #f0f8ff;}#sk-container-id-2 div.sk-toggleable__content pre {margin: 0.2em;color: black;border-radius: 0.25em;background-color: #f0f8ff;}#sk-container-id-2 input.sk-toggleable__control:checked~div.sk-toggleable__content {max-height: 200px;max-width: 100%;overflow: auto;}#sk-container-id-2 input.sk-toggleable__control:checked~label.sk-toggleable__label-arrow:before {content: \"▾\";}#sk-container-id-2 div.sk-estimator input.sk-toggleable__control:checked~label.sk-toggleable__label {background-color: #d4ebff;}#sk-container-id-2 div.sk-label input.sk-toggleable__control:checked~label.sk-toggleable__label {background-color: #d4ebff;}#sk-container-id-2 input.sk-hidden--visually {border: 0;clip: rect(1px 1px 1px 1px);clip: rect(1px, 1px, 1px, 1px);height: 1px;margin: -1px;overflow: hidden;padding: 0;position: absolute;width: 1px;}#sk-container-id-2 div.sk-estimator {font-family: monospace;background-color: #f0f8ff;border: 1px dotted black;border-radius: 0.25em;box-sizing: border-box;margin-bottom: 0.5em;}#sk-container-id-2 div.sk-estimator:hover {background-color: #d4ebff;}#sk-container-id-2 div.sk-parallel-item::after {content: \"\";width: 100%;border-bottom: 1px solid gray;flex-grow: 1;}#sk-container-id-2 div.sk-label:hover label.sk-toggleable__label {background-color: #d4ebff;}#sk-container-id-2 div.sk-serial::before {content: \"\";position: absolute;border-left: 1px solid gray;box-sizing: border-box;top: 0;bottom: 0;left: 50%;z-index: 0;}#sk-container-id-2 div.sk-serial {display: flex;flex-direction: column;align-items: center;background-color: white;padding-right: 0.2em;padding-left: 0.2em;position: relative;}#sk-container-id-2 div.sk-item {position: relative;z-index: 1;}#sk-container-id-2 div.sk-parallel {display: flex;align-items: stretch;justify-content: center;background-color: white;position: relative;}#sk-container-id-2 div.sk-item::before, #sk-container-id-2 div.sk-parallel-item::before {content: \"\";position: absolute;border-left: 1px solid gray;box-sizing: border-box;top: 0;bottom: 0;left: 50%;z-index: -1;}#sk-container-id-2 div.sk-parallel-item {display: flex;flex-direction: column;z-index: 1;position: relative;background-color: white;}#sk-container-id-2 div.sk-parallel-item:first-child::after {align-self: flex-end;width: 50%;}#sk-container-id-2 div.sk-parallel-item:last-child::after {align-self: flex-start;width: 50%;}#sk-container-id-2 div.sk-parallel-item:only-child::after {width: 0;}#sk-container-id-2 div.sk-dashed-wrapped {border: 1px dashed gray;margin: 0 0.4em 0.5em 0.4em;box-sizing: border-box;padding-bottom: 0.4em;background-color: white;}#sk-container-id-2 div.sk-label label {font-family: monospace;font-weight: bold;display: inline-block;line-height: 1.2em;}#sk-container-id-2 div.sk-label-container {text-align: center;}#sk-container-id-2 div.sk-container {/* jupyter's `normalize.less` sets `[hidden] { display: none; }` but bootstrap.min.css set `[hidden] { display: none !important; }` so we also need the `!important` here to be able to override the default hidden behavior on the sphinx rendered scikit-learn.org. See: https://github.com/scikit-learn/scikit-learn/issues/21755 */display: inline-block !important;position: relative;}#sk-container-id-2 div.sk-text-repr-fallback {display: none;}</style><div id=\"sk-container-id-2\" class=\"sk-top-container\"><div class=\"sk-text-repr-fallback\"><pre>GridSearchCV(cv=5,\n",
       "             estimator=RandomForestRegressor(max_features=5,\n",
       "                                             min_samples_split=3, n_jobs=-1),\n",
       "             n_jobs=-1,\n",
       "             param_grid={&#x27;max_features&#x27;: [4, 5, 6, 7, 8, 9, 10],\n",
       "                         &#x27;min_samples_split&#x27;: [2, 3, 10]})</pre><b>In a Jupyter environment, please rerun this cell to show the HTML representation or trust the notebook. <br />On GitHub, the HTML representation is unable to render, please try loading this page with nbviewer.org.</b></div><div class=\"sk-container\" hidden><div class=\"sk-item sk-dashed-wrapped\"><div class=\"sk-label-container\"><div class=\"sk-label sk-toggleable\"><input class=\"sk-toggleable__control sk-hidden--visually\" id=\"sk-estimator-id-4\" type=\"checkbox\" ><label for=\"sk-estimator-id-4\" class=\"sk-toggleable__label sk-toggleable__label-arrow\">GridSearchCV</label><div class=\"sk-toggleable__content\"><pre>GridSearchCV(cv=5,\n",
       "             estimator=RandomForestRegressor(max_features=5,\n",
       "                                             min_samples_split=3, n_jobs=-1),\n",
       "             n_jobs=-1,\n",
       "             param_grid={&#x27;max_features&#x27;: [4, 5, 6, 7, 8, 9, 10],\n",
       "                         &#x27;min_samples_split&#x27;: [2, 3, 10]})</pre></div></div></div><div class=\"sk-parallel\"><div class=\"sk-parallel-item\"><div class=\"sk-item\"><div class=\"sk-label-container\"><div class=\"sk-label sk-toggleable\"><input class=\"sk-toggleable__control sk-hidden--visually\" id=\"sk-estimator-id-5\" type=\"checkbox\" ><label for=\"sk-estimator-id-5\" class=\"sk-toggleable__label sk-toggleable__label-arrow\">estimator: RandomForestRegressor</label><div class=\"sk-toggleable__content\"><pre>RandomForestRegressor(max_features=5, min_samples_split=3, n_jobs=-1)</pre></div></div></div><div class=\"sk-serial\"><div class=\"sk-item\"><div class=\"sk-estimator sk-toggleable\"><input class=\"sk-toggleable__control sk-hidden--visually\" id=\"sk-estimator-id-6\" type=\"checkbox\" ><label for=\"sk-estimator-id-6\" class=\"sk-toggleable__label sk-toggleable__label-arrow\">RandomForestRegressor</label><div class=\"sk-toggleable__content\"><pre>RandomForestRegressor(max_features=5, min_samples_split=3, n_jobs=-1)</pre></div></div></div></div></div></div></div></div></div></div>"
      ],
      "text/plain": [
       "GridSearchCV(cv=5,\n",
       "             estimator=RandomForestRegressor(max_features=5,\n",
       "                                             min_samples_split=3, n_jobs=-1),\n",
       "             n_jobs=-1,\n",
       "             param_grid={'max_features': [4, 5, 6, 7, 8, 9, 10],\n",
       "                         'min_samples_split': [2, 3, 10]})"
      ]
     },
     "execution_count": 68,
     "metadata": {},
     "output_type": "execute_result"
    }
   ],
   "source": [
    "grid_search.fit(X_train, y_train)"
   ]
  },
  {
   "cell_type": "code",
   "execution_count": 69,
   "id": "09a6b174",
   "metadata": {},
   "outputs": [
    {
     "data": {
      "text/plain": [
       "{'max_features': 4, 'min_samples_split': 3}"
      ]
     },
     "execution_count": 69,
     "metadata": {},
     "output_type": "execute_result"
    }
   ],
   "source": [
    "# Best parameters\n",
    "grid_search.best_params_"
   ]
  },
  {
   "cell_type": "markdown",
   "id": "a701f913",
   "metadata": {},
   "source": [
    "## Running Machine Learning Model performance with test size = 0.1"
   ]
  },
  {
   "cell_type": "markdown",
   "id": "80551922",
   "metadata": {},
   "source": [
    "#### Split Data Into Training And Testing Sets"
   ]
  },
  {
   "cell_type": "code",
   "execution_count": 72,
   "id": "abb7aee3",
   "metadata": {},
   "outputs": [],
   "source": [
    "# Split Data into train and test with test_size = 0.1(90% data into train and 10% to test)\n",
    "\n",
    "X_train, X_test, y_train, y_test = train_test_split(X, y, test_size = 0.1, random_state = 42)"
   ]
  },
  {
   "cell_type": "markdown",
   "id": "fd89c987",
   "metadata": {},
   "source": [
    "#### Linear Regression Model "
   ]
  },
  {
   "cell_type": "code",
   "execution_count": 75,
   "id": "fb31f95a",
   "metadata": {},
   "outputs": [
    {
     "name": "stdout",
     "output_type": "stream",
     "text": [
      "r2_score: 0.636321685246418\n",
      "MAE: 7264.595222184898\n",
      "MSE: 75992712.22135599\n",
      "\n",
      "Coef: [4.42911803e+02 5.25765245e+02 4.08212376e-01 9.22873354e+01\n",
      " 2.31517208e+00 2.51617523e+02 1.89309912e+04]\n",
      "Intercept: 37413.57369634283\n"
     ]
    }
   ],
   "source": [
    "# create Linear regression model with test size = 0.1\n",
    "linear_reg = LinearRegression()\n",
    "\n",
    "# Fit model with train data\n",
    "linear_reg.fit(X_train, y_train)\n",
    "\n",
    "# Prediction using test data\n",
    "linear_reg_pred = linear_reg.predict(X_test)\n",
    "\n",
    "# Calculate and print the R-squared (r2) score to evaluate model performance\n",
    "print(\"r2_score:\",r2_score(y_test, linear_reg_pred))\n",
    "\n",
    "# Calculate and print the mean absolute error(MSE) score to evaluate model performance\n",
    "print(\"MAE:\", mean_absolute_error(y_test, linear_reg_pred))\n",
    "\n",
    "# Calculate and print the Mean Squared Error (MSE) to evaluate prediction errors\n",
    "print(\"MSE:\", mean_squared_error(y_test, linear_reg_pred))\n",
    "\n",
    "print()\n",
    "\n",
    "# Print the coefficients of the linear regression model\n",
    "print(\"Coef:\",linear_reg.coef_)\n",
    "\n",
    "# Print the intercept of the linear regression model\n",
    "print(\"Intercept:\",linear_reg.intercept_)"
   ]
  },
  {
   "cell_type": "markdown",
   "id": "d7160197",
   "metadata": {},
   "source": [
    "#### Ridge Regression Model "
   ]
  },
  {
   "cell_type": "code",
   "execution_count": 76,
   "id": "3db8f410",
   "metadata": {},
   "outputs": [
    {
     "name": "stdout",
     "output_type": "stream",
     "text": [
      "r2_score: 0.635607919174224\n",
      "MAE: 7273.60749691774\n",
      "MSE: 76141857.81931214\n",
      "\n",
      "Coef: [4.42864404e+02 5.20710813e+02 4.08256354e-01 9.19186306e+01\n",
      " 2.35030487e+00 2.51556414e+02 1.88488104e+04]\n",
      "Intercept: 37431.67335348472\n"
     ]
    }
   ],
   "source": [
    "# Create Ridge regression with test size = 0.1\n",
    "ridge = Ridge()\n",
    "\n",
    "# Fit model with train data\n",
    "ridge.fit(X_train, y_train)\n",
    "\n",
    "# Prediction using test data\n",
    "ridge_predict = ridge.predict(X_test)\n",
    "\n",
    "# Calculate and print the R-squared (r2) score to evaluate model performance\n",
    "print(\"r2_score:\",r2_score(y_test, ridge_predict))\n",
    "\n",
    "# Calculate and print the mean absolute error(MSE) score to evaluate model performance\n",
    "print(\"MAE:\", mean_absolute_error(y_test, ridge_predict))\n",
    "\n",
    "# Calculate and print the Mean Squared Error (MSE) to evaluate prediction errors\n",
    "print(\"MSE:\", mean_squared_error(y_test, ridge_predict))\n",
    "\n",
    "print()\n",
    "\n",
    "# Print the coefficients of the linear regression model\n",
    "print(\"Coef:\",ridge.coef_)\n",
    "\n",
    "# Print the intercept of the linear regression model\n",
    "print(\"Intercept:\",ridge.intercept_)"
   ]
  },
  {
   "cell_type": "markdown",
   "id": "f44501ec",
   "metadata": {},
   "source": [
    "#### Ridge Regression Model With Alpha Value"
   ]
  },
  {
   "cell_type": "code",
   "execution_count": 77,
   "id": "507b5c5a",
   "metadata": {},
   "outputs": [
    {
     "name": "stdout",
     "output_type": "stream",
     "text": [
      "r2_score: 0.635607919174224\n",
      "MAE: 7273.60749691774\n",
      "MSE: 76141857.81931214\n",
      "\n",
      "Coef: [4.42897940e+02 5.24242646e+02 4.08225611e-01 9.21764079e+01\n",
      " 2.32574303e+00 2.51599134e+02 1.89062616e+04]\n",
      "Intercept: 37419.02017641857\n"
     ]
    }
   ],
   "source": [
    "# Create Ridge regression model with alpha = 0.3 and sover = cholesky\n",
    "ridge_tuned = Ridge(alpha=0.3, solver='cholesky')\n",
    "\n",
    "# Fit model with train data\n",
    "ridge_tuned.fit(X_train, y_train)\n",
    "\n",
    "# Prediction using test data\n",
    "ridge_predict_tuned = ridge.predict(X_test)\n",
    "\n",
    "# Calculate and print the R-squared (r2) score to evaluate model performance\n",
    "print(\"r2_score:\",r2_score(y_test, ridge_predict_tuned))\n",
    "\n",
    "# Calculate and print the mean absolute error(MSE) score to evaluate model performance\n",
    "print(\"MAE:\", mean_absolute_error(y_test, ridge_predict_tuned))\n",
    "\n",
    "# Calculate and print the Mean Squared Error (MSE) to evaluate prediction errors\n",
    "print(\"MSE:\", mean_squared_error(y_test, ridge_predict_tuned))\n",
    "\n",
    "print()\n",
    "\n",
    "# Print the coefficients of the linear regression model\n",
    "print(\"Coef:\",ridge_tuned.coef_)\n",
    "\n",
    "# Print the intercept of the linear regression model\n",
    "print(\"Intercept:\",ridge_tuned.intercept_)"
   ]
  },
  {
   "cell_type": "markdown",
   "id": "d44b3975",
   "metadata": {},
   "source": [
    "#### Lasso Regression Model With Default Parameters"
   ]
  },
  {
   "cell_type": "code",
   "execution_count": 78,
   "id": "c6b8fa3a",
   "metadata": {},
   "outputs": [
    {
     "name": "stdout",
     "output_type": "stream",
     "text": [
      "r2_score: 0.6362725365808042\n",
      "MAE: 7265.304096193648\n",
      "MSE: 76002982.12266861\n",
      "\n",
      "Coef: [4.41583747e+02 5.21553553e+02 4.08206824e-01 9.16362699e+01\n",
      " 2.30982336e+00 2.51603269e+02 1.89244902e+04]\n",
      "Intercept: 37422.56964438998\n"
     ]
    }
   ],
   "source": [
    "# Create Lasso regression model with default parameters\n",
    "lasso = Lasso()\n",
    "\n",
    "# Fit model on train data\n",
    "lasso.fit(X_train, y_train)\n",
    "\n",
    "# Prediction on test data\n",
    "lasso_pred = lasso.predict(X_test)\n",
    "\n",
    "# Calculate and print the R-squared (r2) score to evaluate model performance\n",
    "print(\"r2_score:\",r2_score(y_test, lasso_pred))\n",
    "\n",
    "# Calculate and print the mean absolute error(MSE) score to evaluate model performance\n",
    "print(\"MAE:\", mean_absolute_error(y_test, lasso_pred))\n",
    "\n",
    "# Calculate and print the Mean Squared Error (MSE) to evaluate prediction errors\n",
    "print(\"MSE:\", mean_squared_error(y_test, lasso_pred))\n",
    "\n",
    "print()\n",
    "\n",
    "# Print the coefficients of the linear regression model\n",
    "print(\"Coef:\",lasso.coef_)\n",
    "\n",
    "# Print the intercept of the linear regression model\n",
    "print(\"Intercept:\",lasso.intercept_)"
   ]
  },
  {
   "cell_type": "markdown",
   "id": "fa8b2231",
   "metadata": {},
   "source": [
    "#### Lasso Regression Model With Tuned Parameter"
   ]
  },
  {
   "cell_type": "code",
   "execution_count": 79,
   "id": "d9351472",
   "metadata": {},
   "outputs": [
    {
     "name": "stdout",
     "output_type": "stream",
     "text": [
      "r2_score: 0.6363069568715122\n",
      "MAE: 7264.807871629203\n",
      "MSE: 75995789.80148739\n"
     ]
    }
   ],
   "source": [
    "# Create Lasso regression model with tuned parameter\n",
    "lasso_tuned = Lasso(alpha=0.3)\n",
    "\n",
    "# Fit model on train data\n",
    "lasso_tuned.fit(X_train, y_train)\n",
    "\n",
    "# Prediction on test data\n",
    "lasso_tuned_pred = lasso_tuned.predict(X_test)\n",
    "\n",
    "# Calculate and print the R-squared (r2) score to evaluate model performance\n",
    "print(\"r2_score:\",r2_score(y_test, lasso_tuned_pred))\n",
    "\n",
    "# Calculate and print the mean absolute error(MSE) score to evaluate model performance\n",
    "print(\"MAE:\", mean_absolute_error(y_test, lasso_tuned_pred))\n",
    "\n",
    "# Calculate and print the Mean Squared Error (MSE) to evaluate prediction errors\n",
    "print(\"MSE:\", mean_squared_error(y_test, lasso_tuned_pred))"
   ]
  },
  {
   "cell_type": "markdown",
   "id": "5b259ad5",
   "metadata": {},
   "source": [
    "#### Decision Tree Regression Model\n"
   ]
  },
  {
   "cell_type": "code",
   "execution_count": 80,
   "id": "8fed5374",
   "metadata": {},
   "outputs": [
    {
     "name": "stdout",
     "output_type": "stream",
     "text": [
      "r2_score: 0.4548846441682135\n",
      "MAE: 6964.911383647798\n",
      "MSE: 113905043.77814023\n"
     ]
    }
   ],
   "source": [
    "# Create Decision tree regression with default parameters\n",
    "dtr = DecisionTreeRegressor()\n",
    "\n",
    "# Fit model on train data\n",
    "dtr.fit(X_train, y_train)\n",
    "\n",
    "# Prediction on test data\n",
    "dtr_pred = dtr.predict(X_test)\n",
    "\n",
    "# Calculate and print the R-squared (r2) score to evaluate model performance\n",
    "print(\"r2_score:\",r2_score(y_test, dtr_pred))\n",
    "\n",
    "# Calculate and print the mean absolute error(MSE) score to evaluate model performance\n",
    "print(\"MAE:\", mean_absolute_error(y_test, dtr_pred))\n",
    "\n",
    "# Calculate and print the Mean Squared Error (MSE) to evaluate prediction errors\n",
    "print(\"MSE:\", mean_squared_error(y_test, dtr_pred))"
   ]
  },
  {
   "cell_type": "markdown",
   "id": "07c575c1",
   "metadata": {},
   "source": [
    "#### DecisionTreeRegressor Model With Tuned Parameter"
   ]
  },
  {
   "cell_type": "code",
   "execution_count": 81,
   "id": "063b4cd5",
   "metadata": {},
   "outputs": [
    {
     "name": "stdout",
     "output_type": "stream",
     "text": [
      "r2_score: 0.6302592573081193\n",
      "MAE: 7013.4869288702985\n",
      "MSE: 77259492.01819375\n"
     ]
    }
   ],
   "source": [
    "# Create DecisionTreeRegressor model with tuned parameter\n",
    "dtr_tuned = DecisionTreeRegressor(max_depth=4)\n",
    "\n",
    "# Fit model on train data\n",
    "dtr_tuned.fit(X_train, y_train)\n",
    "\n",
    "# Prediction using test data\n",
    "dtr_tuned_pred = dtr_tuned.predict(X_test)\n",
    "\n",
    "# Calculate and print the R-squared (r2) score to evaluate model performance\n",
    "print(\"r2_score:\",r2_score(y_test, dtr_tuned_pred))\n",
    "\n",
    "# Calculate and print the mean absolute error(MSE) score to evaluate model performance\n",
    "print(\"MAE:\", mean_absolute_error(y_test, dtr_tuned_pred))\n",
    "\n",
    "# Calculate and print the Mean Squared Error (MSE) to evaluate prediction errors\n",
    "print(\"MSE:\", mean_squared_error(y_test, dtr_tuned_pred))"
   ]
  },
  {
   "cell_type": "markdown",
   "id": "11a87dfc",
   "metadata": {},
   "source": [
    "#### Random Forest Regressor Model"
   ]
  },
  {
   "cell_type": "code",
   "execution_count": 82,
   "id": "842b9c72",
   "metadata": {},
   "outputs": [
    {
     "name": "stdout",
     "output_type": "stream",
     "text": [
      "r2_score: 0.6708307096456481\n",
      "MAE: 6555.654893710693\n",
      "MSE: 68781849.61606885\n"
     ]
    }
   ],
   "source": [
    "# Create Random forest regressor model on default parameters\n",
    "rnd = RandomForestRegressor()\n",
    "\n",
    "#Fit model on train data\n",
    "rnd.fit(X_train, y_train)\n",
    "\n",
    "# prediction using test data\n",
    "rnd_pred = rnd.predict(X_test)\n",
    "\n",
    "# Calculate and print the R-squared (r2) score to evaluate model performance\n",
    "print(\"r2_score:\",r2_score(y_test, rnd_pred))\n",
    "\n",
    "# Calculate and print the mean absolute error(MSE) score to evaluate model performance\n",
    "print(\"MAE:\", mean_absolute_error(y_test, rnd_pred))\n",
    "\n",
    "# Calculate and print the Mean Squared Error (MSE) to evaluate prediction errors\n",
    "print(\"MSE:\", mean_squared_error(y_test, rnd_pred))"
   ]
  },
  {
   "cell_type": "markdown",
   "id": "4241c357",
   "metadata": {},
   "source": [
    "#### Random Forest Regressor Model With Max Features"
   ]
  },
  {
   "cell_type": "code",
   "execution_count": 83,
   "id": "43b3bd16",
   "metadata": {},
   "outputs": [
    {
     "name": "stdout",
     "output_type": "stream",
     "text": [
      "r2_score: 0.6832970839533041\n",
      "MAE: 6442.3186504759415\n",
      "MSE: 66176927.74755628\n"
     ]
    }
   ],
   "source": [
    "# Create Random forest regressor model with max features = 5 and min sample split = 3\n",
    "rnd_tuned = RandomForestRegressor(n_jobs=-1, max_features=5, min_samples_split=3)\n",
    "\n",
    "# Fit model using train data\n",
    "rnd_tuned.fit(X_train, y_train)\n",
    "\n",
    "# Prediction using test data\n",
    "rnd_tuned_pred = rnd_tuned.predict(X_test)\n",
    "\n",
    "# Calculate and print the R-squared (r2) score to evaluate model performance\n",
    "print(\"r2_score:\",r2_score(y_test, rnd_tuned_pred))\n",
    "\n",
    "# Calculate and print the mean absolute error(MSE) score to evaluate model performance\n",
    "print(\"MAE:\", mean_absolute_error(y_test, rnd_tuned_pred))\n",
    "\n",
    "# Calculate and print the Mean Squared Error (MSE) to evaluate prediction errors\n",
    "print(\"MSE:\", mean_squared_error(y_test, rnd_tuned_pred))"
   ]
  },
  {
   "cell_type": "markdown",
   "id": "3abe2794",
   "metadata": {},
   "source": [
    "## Performing Feature "
   ]
  },
  {
   "cell_type": "code",
   "execution_count": 84,
   "id": "75a2b410",
   "metadata": {},
   "outputs": [],
   "source": [
    "# Split data into independent and target variable\n",
    "X = df.loc[:, df.columns != 'CTC']\n",
    "y = df['CTC']"
   ]
  },
  {
   "cell_type": "code",
   "execution_count": 85,
   "id": "2b6aa939",
   "metadata": {},
   "outputs": [],
   "source": [
    "# Split Data into train and test with test_size = 0.2(80% data into train and 20% to test)\n",
    "\n",
    "X_train, X_test, y_train, y_test = train_test_split(X, y, test_size = 0.2, random_state = 42)"
   ]
  },
  {
   "cell_type": "code",
   "execution_count": 86,
   "id": "24784773",
   "metadata": {},
   "outputs": [],
   "source": [
    "# Import Standard scaler from sklearn for feature scaling(mean=0, std dev=1)\n",
    "from sklearn.preprocessing import StandardScaler"
   ]
  },
  {
   "cell_type": "code",
   "execution_count": 87,
   "id": "d0e931e2",
   "metadata": {},
   "outputs": [],
   "source": [
    "# Create standard scaler object\n",
    "scaler = StandardScaler()"
   ]
  },
  {
   "cell_type": "code",
   "execution_count": 88,
   "id": "99b0ecf2",
   "metadata": {},
   "outputs": [],
   "source": [
    "# Scale the features in the training data using a previously fitted scaler\n",
    "X_train_scaled = scaler.fit_transform(X_train)\n",
    "\n",
    "# Scale the features in the test data using the same scaler to ensure consistency\n",
    "X_test_scaled = scaler.transform(X_test)"
   ]
  },
  {
   "cell_type": "code",
   "execution_count": 89,
   "id": "98db9d34",
   "metadata": {},
   "outputs": [],
   "source": [
    "# Storing otput of X_train_scaled into dataframe for checking change done on values after scaling\n",
    "df_X_train = pd.DataFrame(X_train_scaled, columns=X_train.columns)\n",
    "df_X_test = pd.DataFrame(X_test_scaled, columns = X_test.columns)"
   ]
  },
  {
   "cell_type": "code",
   "execution_count": 90,
   "id": "d51664a6",
   "metadata": {},
   "outputs": [
    {
     "data": {
      "text/html": [
       "<div>\n",
       "<style scoped>\n",
       "    .dataframe tbody tr th:only-of-type {\n",
       "        vertical-align: middle;\n",
       "    }\n",
       "\n",
       "    .dataframe tbody tr th {\n",
       "        vertical-align: top;\n",
       "    }\n",
       "\n",
       "    .dataframe thead th {\n",
       "        text-align: right;\n",
       "    }\n",
       "</style>\n",
       "<table border=\"1\" class=\"dataframe\">\n",
       "  <thead>\n",
       "    <tr style=\"text-align: right;\">\n",
       "      <th></th>\n",
       "      <th>College</th>\n",
       "      <th>City</th>\n",
       "      <th>Previous CTC</th>\n",
       "      <th>Previous job change</th>\n",
       "      <th>Graduation Marks</th>\n",
       "      <th>EXP (Month)</th>\n",
       "      <th>Role_Manager</th>\n",
       "    </tr>\n",
       "  </thead>\n",
       "  <tbody>\n",
       "    <tr>\n",
       "      <th>count</th>\n",
       "      <td>1271.0</td>\n",
       "      <td>1271.0</td>\n",
       "      <td>1271.0</td>\n",
       "      <td>1271.0</td>\n",
       "      <td>1271.0</td>\n",
       "      <td>1271.0</td>\n",
       "      <td>1271.0</td>\n",
       "    </tr>\n",
       "    <tr>\n",
       "      <th>mean</th>\n",
       "      <td>-0.0</td>\n",
       "      <td>0.0</td>\n",
       "      <td>0.0</td>\n",
       "      <td>-0.0</td>\n",
       "      <td>-0.0</td>\n",
       "      <td>-0.0</td>\n",
       "      <td>-0.0</td>\n",
       "    </tr>\n",
       "    <tr>\n",
       "      <th>std</th>\n",
       "      <td>1.0</td>\n",
       "      <td>1.0</td>\n",
       "      <td>1.0</td>\n",
       "      <td>1.0</td>\n",
       "      <td>1.0</td>\n",
       "      <td>1.0</td>\n",
       "      <td>1.0</td>\n",
       "    </tr>\n",
       "    <tr>\n",
       "      <th>min</th>\n",
       "      <td>-1.2</td>\n",
       "      <td>-1.0</td>\n",
       "      <td>-2.8</td>\n",
       "      <td>-1.4</td>\n",
       "      <td>-1.7</td>\n",
       "      <td>-1.5</td>\n",
       "      <td>-0.5</td>\n",
       "    </tr>\n",
       "    <tr>\n",
       "      <th>25%</th>\n",
       "      <td>-1.2</td>\n",
       "      <td>-1.0</td>\n",
       "      <td>-0.8</td>\n",
       "      <td>-0.5</td>\n",
       "      <td>-0.9</td>\n",
       "      <td>-0.9</td>\n",
       "      <td>-0.5</td>\n",
       "    </tr>\n",
       "    <tr>\n",
       "      <th>50%</th>\n",
       "      <td>-0.0</td>\n",
       "      <td>1.0</td>\n",
       "      <td>-0.0</td>\n",
       "      <td>0.4</td>\n",
       "      <td>0.0</td>\n",
       "      <td>-0.0</td>\n",
       "      <td>-0.5</td>\n",
       "    </tr>\n",
       "    <tr>\n",
       "      <th>75%</th>\n",
       "      <td>1.2</td>\n",
       "      <td>1.0</td>\n",
       "      <td>0.7</td>\n",
       "      <td>1.3</td>\n",
       "      <td>0.9</td>\n",
       "      <td>0.9</td>\n",
       "      <td>-0.5</td>\n",
       "    </tr>\n",
       "    <tr>\n",
       "      <th>max</th>\n",
       "      <td>1.2</td>\n",
       "      <td>1.0</td>\n",
       "      <td>3.4</td>\n",
       "      <td>1.3</td>\n",
       "      <td>1.7</td>\n",
       "      <td>1.7</td>\n",
       "      <td>2.0</td>\n",
       "    </tr>\n",
       "  </tbody>\n",
       "</table>\n",
       "</div>"
      ],
      "text/plain": [
       "       College    City  Previous CTC  Previous job change  Graduation Marks  \\\n",
       "count   1271.0  1271.0        1271.0               1271.0            1271.0   \n",
       "mean      -0.0     0.0           0.0                 -0.0              -0.0   \n",
       "std        1.0     1.0           1.0                  1.0               1.0   \n",
       "min       -1.2    -1.0          -2.8                 -1.4              -1.7   \n",
       "25%       -1.2    -1.0          -0.8                 -0.5              -0.9   \n",
       "50%       -0.0     1.0          -0.0                  0.4               0.0   \n",
       "75%        1.2     1.0           0.7                  1.3               0.9   \n",
       "max        1.2     1.0           3.4                  1.3               1.7   \n",
       "\n",
       "       EXP (Month)  Role_Manager  \n",
       "count       1271.0        1271.0  \n",
       "mean          -0.0          -0.0  \n",
       "std            1.0           1.0  \n",
       "min           -1.5          -0.5  \n",
       "25%           -0.9          -0.5  \n",
       "50%           -0.0          -0.5  \n",
       "75%            0.9          -0.5  \n",
       "max            1.7           2.0  "
      ]
     },
     "execution_count": 90,
     "metadata": {},
     "output_type": "execute_result"
    }
   ],
   "source": [
    "# Statistical changes sfter scaling\n",
    "np.round(df_X_train.describe(), 1)\n",
    "\n",
    "# Here we can observe that, after scaling, mean is zero and standard deviation is 1"
   ]
  },
  {
   "cell_type": "markdown",
   "id": "7ae86726",
   "metadata": {},
   "source": [
    "## Checking Model Performance After Scaling With Test Size 0.2"
   ]
  },
  {
   "cell_type": "markdown",
   "id": "31ef1a9a",
   "metadata": {},
   "source": [
    "#### Linear Regression Model\n"
   ]
  },
  {
   "cell_type": "code",
   "execution_count": 91,
   "id": "abdf951f",
   "metadata": {},
   "outputs": [
    {
     "name": "stdout",
     "output_type": "stream",
     "text": [
      "r2_score: 0.5933517958385082\n",
      "MAE: 7191.231067500048\n",
      "MSE: 77362774.94956557\n",
      "\n",
      "Coef: [ 435.09743711  241.31880694 2802.97570998    9.81979783   29.0192253\n",
      " 3467.75304336 7471.39306988]\n",
      "Intercept: 75284.838245476\n"
     ]
    }
   ],
   "source": [
    "# Create LinearRegression model with scaled data and test size 0.2\n",
    "lr_scaled = LinearRegression()\n",
    "\n",
    "# Fit model on train data\n",
    "lr_scaled.fit(X_train_scaled, y_train)\n",
    "\n",
    "# Make prediction using test data\n",
    "lr_scaled_pred = lr_scaled.predict(X_test_scaled)\n",
    "\n",
    "# Calculate and print the R-squared (r2) score to evaluate model performance\n",
    "print(\"r2_score:\",r2_score(y_test, lr_scaled_pred))\n",
    "\n",
    "# Calculate and print the mean absolute error(MSE) score to evaluate model performance\n",
    "print(\"MAE:\", mean_absolute_error(y_test, lr_scaled_pred))\n",
    "\n",
    "# Calculate and print the Mean Squared Error (MSE) to evaluate prediction errors\n",
    "print(\"MSE:\", mean_squared_error(y_test, lr_scaled_pred))\n",
    "\n",
    "print()\n",
    "\n",
    "# Print the coefficients of the linear regression model\n",
    "print(\"Coef:\",lr_scaled.coef_)\n",
    "\n",
    "# Print the intercept of the linear regression model\n",
    "print(\"Intercept:\",lr_scaled.intercept_)"
   ]
  },
  {
   "cell_type": "markdown",
   "id": "8540496c",
   "metadata": {},
   "source": [
    "#### Ridge Regressor Model"
   ]
  },
  {
   "cell_type": "code",
   "execution_count": 92,
   "id": "872ce979",
   "metadata": {},
   "outputs": [
    {
     "name": "stdout",
     "output_type": "stream",
     "text": [
      "r2_score: 0.5932150226490303\n",
      "MAE: 7192.604677281892\n",
      "MSE: 77388795.36074269\n"
     ]
    }
   ],
   "source": [
    "# Create Ridge regressor after feature scaling with test size 0.2\n",
    "r_scaled = Ridge()\n",
    "\n",
    "# Fit model using train data\n",
    "r_scaled.fit(X_train_scaled, y_train)\n",
    "\n",
    "# Make prediction on test data\n",
    "r_scaled_pred = r_scaled.predict(X_test_scaled)\n",
    "\n",
    "# Calculate and print the R-squared (r2) score to evaluate model performance\n",
    "print(\"r2_score:\",r2_score(y_test, r_scaled_pred))\n",
    "\n",
    "# Calculate and print the mean absolute error(MSE) score to evaluate model performance\n",
    "print(\"MAE:\", mean_absolute_error(y_test, r_scaled_pred))\n",
    "\n",
    "# Calculate and print the Mean Squared Error (MSE) to evaluate prediction errors\n",
    "print(\"MSE:\", mean_squared_error(y_test, r_scaled_pred))"
   ]
  },
  {
   "cell_type": "markdown",
   "id": "9000264f",
   "metadata": {},
   "source": [
    "#### Lasso Regressor Model"
   ]
  },
  {
   "cell_type": "code",
   "execution_count": 93,
   "id": "a396d8ba",
   "metadata": {},
   "outputs": [
    {
     "name": "stdout",
     "output_type": "stream",
     "text": [
      "r2_score: 0.5933169519706637\n",
      "MAE: 7191.560845403443\n",
      "MSE: 77369403.82011962\n"
     ]
    }
   ],
   "source": [
    "# Create Lasso regressor model after feature scaling and test size 0.2\n",
    "l_scaled = Lasso()\n",
    "\n",
    "# Fit model on train data\n",
    "l_scaled.fit(X_train_scaled, y_train)\n",
    "\n",
    "# Make prediction using test data\n",
    "l_scaled_pred = l_scaled.predict(X_test_scaled)\n",
    "\n",
    "# Calculate and print the R-squared (r2) score to evaluate model performance\n",
    "print(\"r2_score:\",r2_score(y_test, l_scaled_pred))\n",
    "\n",
    "# Calculate and print the mean absolute error(MSE) score to evaluate model performance\n",
    "print(\"MAE:\", mean_absolute_error(y_test, l_scaled_pred))\n",
    "\n",
    "# Calculate and print the Mean Squared Error (MSE) to evaluate prediction errors\n",
    "print(\"MSE:\", mean_squared_error(y_test, l_scaled_pred))"
   ]
  },
  {
   "cell_type": "markdown",
   "id": "efe0843c",
   "metadata": {},
   "source": [
    "#### Decision Tree Regression Model"
   ]
  },
  {
   "cell_type": "code",
   "execution_count": 94,
   "id": "3a21fc6d",
   "metadata": {},
   "outputs": [
    {
     "name": "stdout",
     "output_type": "stream",
     "text": [
      "r2_score: 0.3169418447735133\n",
      "MAE: 8296.539811320754\n",
      "MSE: 129948377.49059999\n"
     ]
    }
   ],
   "source": [
    "# Create Decision Tree regression after feature scaling with test size of 0.2\n",
    "dt_scaled = DecisionTreeRegressor()\n",
    "\n",
    "# Fit model on train data\n",
    "dt_scaled.fit(X_train_scaled, y_train)\n",
    "\n",
    "# Make prediction using test data\n",
    "dt_scaled_pred = dt_scaled.predict(X_test_scaled)\n",
    "\n",
    "# Calculate and print the R-squared (r2) score to evaluate model performance\n",
    "print(\"r2_score:\",r2_score(y_test, dt_scaled_pred))\n",
    "\n",
    "# Calculate and print the mean absolute error(MSE) score to evaluate model performance\n",
    "print(\"MAE:\", mean_absolute_error(y_test, dt_scaled_pred))\n",
    "\n",
    "# Calculate and print the Mean Squared Error (MSE) to evaluate prediction errors\n",
    "print(\"MSE:\", mean_squared_error(y_test, dt_scaled_pred))"
   ]
  },
  {
   "cell_type": "markdown",
   "id": "bda9d9af",
   "metadata": {},
   "source": [
    "#### Random Forest Regressor Model"
   ]
  },
  {
   "cell_type": "code",
   "execution_count": 95,
   "id": "ede47ac9",
   "metadata": {},
   "outputs": [
    {
     "name": "stdout",
     "output_type": "stream",
     "text": [
      "r2_score: 0.6359160313882743\n",
      "MAE: 6368.995153773585\n",
      "MSE: 69265143.2816063\n"
     ]
    }
   ],
   "source": [
    "# Create Random Forest regressor model on default parameter after feature scaling with test size 0.2\n",
    "rf_scaled = RandomForestRegressor()\n",
    "\n",
    "# Fit model on train data\n",
    "rf_scaled.fit(X_train_scaled, y_train)\n",
    "\n",
    "# Prediction using test data\n",
    "rf_scaled_pred = rf_scaled.predict(X_test_scaled)\n",
    "\n",
    "# Calculate and print the R-squared (r2) score to evaluate model performance\n",
    "print(\"r2_score:\",r2_score(y_test, rf_scaled_pred))\n",
    "\n",
    "# Calculate and print the mean absolute error(MSE) score to evaluate model performance\n",
    "print(\"MAE:\", mean_absolute_error(y_test, rf_scaled_pred))\n",
    "\n",
    "# Calculate and print the Mean Squared Error (MSE) to evaluate prediction errors\n",
    "print(\"MSE:\", mean_squared_error(y_test, rf_scaled_pred))"
   ]
  },
  {
   "cell_type": "markdown",
   "id": "b6b59565",
   "metadata": {},
   "source": [
    "#### Random Forest Model With Tuned Parameters\n"
   ]
  },
  {
   "cell_type": "code",
   "execution_count": 96,
   "id": "06c7d4e2",
   "metadata": {},
   "outputs": [
    {
     "name": "stdout",
     "output_type": "stream",
     "text": [
      "r2_score: 0.6417049648813692\n",
      "MAE: 6348.821225637416\n",
      "MSE: 68163827.80931063\n"
     ]
    }
   ],
   "source": [
    "# Create Random Forest model after feature scaling with parameter tuned\n",
    "rf_scaled_tuned = RandomForestRegressor(max_features=5, min_samples_split=3, n_jobs=-1)\n",
    "\n",
    "# Fit model on train data\n",
    "rf_scaled_tuned.fit(X_train_scaled, y_train)\n",
    "\n",
    "# Prediction on test data\n",
    "rf_scaled_tuned_pred = rf_scaled_tuned.predict(X_test_scaled)\n",
    "\n",
    "# Calculate and print the R-squared (r2) score to evaluate model performance\n",
    "print(\"r2_score:\",r2_score(y_test, rf_scaled_tuned_pred))\n",
    "\n",
    "# Calculate and print the mean absolute error(MSE) score to evaluate model performance\n",
    "print(\"MAE:\", mean_absolute_error(y_test, rf_scaled_tuned_pred))\n",
    "\n",
    "# Calculate and print the Mean Squared Error (MSE) to evaluate prediction errors\n",
    "print(\"MSE:\", mean_squared_error(y_test, rf_scaled_tuned_pred))"
   ]
  },
  {
   "cell_type": "markdown",
   "id": "84dba4e9",
   "metadata": {},
   "source": [
    "# Model Performance Comparison\n",
    "\n",
    "We compared the performance of different machine learning models using the R-squared (`r2_score`) metric as the primary measure, along with Mean Absolute Error (MAE) and Mean Squared Error (MSE) for reference.\n",
    "\n",
    "## Scenario 1: Test Size = 20% (without feature scaling)\n",
    "- **Linear Regression:** `R-squared = 0.5934`\n",
    "- **Ridge Regression:** `R-squared = 0.5927`\n",
    "- **Lasso Regression:** `R-squared = 0.5933`\n",
    "- **Decision Tree:** `R-squared = 0.3161`\n",
    "- **Random Forest:** `R-squared = 0.6312`\n",
    "\n",
    "## Scenario 2: Test Size = 10% (without feature scaling)\n",
    "- **Linear Regression:** `R-squared = 0.6363`\n",
    "- **Ridge Regression:** `R-squared = 0.6356`\n",
    "- **Lasso Regression:** `R-squared = 0.6363`\n",
    "- **Decision Tree:** `R-squared = 0.4423`\n",
    "- **Random Forest:** `R-squared = 0.6720`\n",
    "\n",
    "## Scenario 3: Test Size = 10% (with feature scaling)\n",
    "- **Linear Regression:** `R-squared = 0.6363`\n",
    "- **Ridge Regression:** `R-squared = 0.6362`\n",
    "- **Lasso Regression:** `R-squared = 0.6363`\n",
    "- **Decision Tree:** `R-squared = 0.4657`\n",
    "- **Random Forest:** `R-squared = 0.6745`\n",
    "\n",
    "## Scenario 4: Test Size = 20% (with feature scaling)\n",
    "- **Linear Regression:** `R-squared = 0.5934`\n",
    "- **Ridge Regression:** `R-squared = 0.5932`\n",
    "- **Lasso Regression:** `R-squared = 0.5933`\n",
    "- **Decision Tree:** `R-squared = 0.2732`\n",
    "- **Random Forest:** `R-squared = 0.6397`\n",
    "\n",
    "## Key Takeaways\n",
    "- **Random Forest** consistently outperforms the other models in all scenarios, particularly after scaling the features.\n",
    "- **Linear, Ridge, and Lasso Regression** models show very similar performance, with minor differences in R-squared values.\n",
    "- **Decision Tree** tends to underperform relative to the other models, especially with a larger test size and after scaling.\n",
    "- **Feature Scaling** slightly improves the performance of Random Forest and Decision Tree models but has little impact on the regression models.\n"
   ]
  },
  {
   "cell_type": "markdown",
   "id": "67ae0604",
   "metadata": {},
   "source": [
    "## Q4. Summary \n",
    "\n",
    "When comparing the different models, **Random Forest** stands out as the most reliable performer across all scenarios, whether feature scaling is applied or not, and regardless of the test size. It consistently achieves the highest R-squared scores, indicating a strong fit to the data.\n",
    "\n",
    "**Linear Regression** and **Lasso** also deliver solid results, but they fall just short of Random Forest in terms of R-squared scores. They still perform well, making them good options depending on your specific needs.\n",
    "\n",
    "On the other hand, the **Decision Tree** model struggles the most, showing the lowest R-squared scores across the board. It consistently lags behind the other models, making it the weakest option in these comparisons.\n",
    "\n",
    "**Feature scaling** does seem to help improve model performance, especially in scenarios where it was applied. The models generally achieved higher R-squared scores with scaled features compared to those without scaling.\n",
    "\n",
    "In conclusion, if you're prioritizing R-squared as your main measure of success, **Random Forest** is the clear winner, followed by **Linear Regression** and **Lasso**. However, it's important to also weigh other factors like how easy the model is to interpret, how much computational power it requires, and what exactly you're trying to achieve with your analysis when deciding on the best model for your project.\n"
   ]
  },
  {
   "cell_type": "markdown",
   "id": "9d851ff9",
   "metadata": {},
   "source": [
    "## Q5. Steps To Enhance Model Performance\n",
    "\n",
    "To further boost the performance of the chosen model, several strategies can be applied:\n",
    "\n",
    "1. **Increase the Number of Trees (Estimators):** Random Forest models often perform better when more decision trees are included in the ensemble. Adding more trees can help capture more patterns in the data.\n",
    "\n",
    "2. **Hyperparameter Tuning:** A more detailed hyperparameter tuning process can be very beneficial. Experimenting with different values for key parameters, such as `max_depth`, `min_samples_split`, `min_samples_leaf`, and `max_features`, can help optimize the model. Tools like Grid Search or Randomized Search are useful in finding the best combination of these hyperparameters.\n",
    "\n",
    "3. **Feature Selection:** Not all features contribute equally to the model’s performance. By identifying and removing or down-weighting less informative features, you can make the model more efficient and potentially improve its accuracy.\n"
   ]
  },
  {
   "cell_type": "code",
   "execution_count": null,
   "id": "689dab88",
   "metadata": {},
   "outputs": [],
   "source": []
  }
 ],
 "metadata": {
  "kernelspec": {
   "display_name": "Python 3 (ipykernel)",
   "language": "python",
   "name": "python3"
  },
  "language_info": {
   "codemirror_mode": {
    "name": "ipython",
    "version": 3
   },
   "file_extension": ".py",
   "mimetype": "text/x-python",
   "name": "python",
   "nbconvert_exporter": "python",
   "pygments_lexer": "ipython3",
   "version": "3.11.5"
  }
 },
 "nbformat": 4,
 "nbformat_minor": 5
}
